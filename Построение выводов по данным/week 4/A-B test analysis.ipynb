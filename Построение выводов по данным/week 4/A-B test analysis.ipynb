{
 "cells": [
  {
   "cell_type": "code",
   "execution_count": 1,
   "metadata": {},
   "outputs": [],
   "source": [
    "import pandas as pd\n",
    "import numpy as np\n",
    "from scipy import stats\n",
    "import scipy\n",
    "\n",
    "\n",
    "from statsmodels.stats import weightstats as wsm\n",
    "from statsmodels.stats.proportion import proportion_confint\n",
    "\n",
    "%matplotlib inline\n",
    "import matplotlib.pyplot as plt\n",
    "import seaborn as sns"
   ]
  },
  {
   "cell_type": "markdown",
   "metadata": {},
   "source": [
    "В данном задании вам нужно будет\n",
    "\n",
    "- проанализировать АБ тест, проведенный на реальных пользователях Яндекса\n",
    "- подтвердить или опровергнуть наличие изменений в пользовательском поведении между контрольной (control) и тестовой (exp) группами\n",
    "- определить характер этих изменений и практическую значимость вводимого изменения\n",
    "- понять, какая из пользовательских групп более всего проигрывает / выигрывает от тестируемого изменения (локализовать изменение)\n",
    "\n",
    "Описание данных:\n",
    "- userID: уникальный идентификатор пользователя\n",
    "- browser: браузер, который использовал userID\n",
    "- slot: в каком статусе пользователь участвовал в исследовании (exp = видел измененную страницу, control = видел неизменную страницу)\n",
    "- n_clicks: количество кликов, которые пользоваль совершил за n_queries\n",
    "- n_queries: количество запросов, который совершил userID, пользуясь браузером browser\n",
    "- n_nonclk_queries: количество запросов пользователя, в которых им не было совершено ни одного клика\n",
    "\n",
    "Обращаем ваше внимание, что не все люди используют только один браузер, поэтому в столбце userID есть повторяющиеся идентификаторы. В предлагаемых данных уникальным является сочетание userID и browser."
   ]
  },
  {
   "cell_type": "code",
   "execution_count": 2,
   "metadata": {
    "scrolled": true
   },
   "outputs": [
    {
     "data": {
      "text/html": [
       "<div>\n",
       "<style scoped>\n",
       "    .dataframe tbody tr th:only-of-type {\n",
       "        vertical-align: middle;\n",
       "    }\n",
       "\n",
       "    .dataframe tbody tr th {\n",
       "        vertical-align: top;\n",
       "    }\n",
       "\n",
       "    .dataframe thead th {\n",
       "        text-align: right;\n",
       "    }\n",
       "</style>\n",
       "<table border=\"1\" class=\"dataframe\">\n",
       "  <thead>\n",
       "    <tr style=\"text-align: right;\">\n",
       "      <th></th>\n",
       "      <th>userID</th>\n",
       "      <th>browser</th>\n",
       "      <th>slot</th>\n",
       "      <th>n_clicks</th>\n",
       "      <th>n_queries</th>\n",
       "      <th>n_nonclk_queries</th>\n",
       "    </tr>\n",
       "  </thead>\n",
       "  <tbody>\n",
       "    <tr>\n",
       "      <th>0</th>\n",
       "      <td>1</td>\n",
       "      <td>Browser #2</td>\n",
       "      <td>exp</td>\n",
       "      <td>23</td>\n",
       "      <td>32</td>\n",
       "      <td>19</td>\n",
       "    </tr>\n",
       "    <tr>\n",
       "      <th>1</th>\n",
       "      <td>3</td>\n",
       "      <td>Browser #4</td>\n",
       "      <td>exp</td>\n",
       "      <td>3</td>\n",
       "      <td>4</td>\n",
       "      <td>2</td>\n",
       "    </tr>\n",
       "    <tr>\n",
       "      <th>2</th>\n",
       "      <td>5</td>\n",
       "      <td>Browser #4</td>\n",
       "      <td>exp</td>\n",
       "      <td>29</td>\n",
       "      <td>35</td>\n",
       "      <td>16</td>\n",
       "    </tr>\n",
       "    <tr>\n",
       "      <th>3</th>\n",
       "      <td>6</td>\n",
       "      <td>Browser #4</td>\n",
       "      <td>control</td>\n",
       "      <td>12</td>\n",
       "      <td>6</td>\n",
       "      <td>0</td>\n",
       "    </tr>\n",
       "    <tr>\n",
       "      <th>4</th>\n",
       "      <td>7</td>\n",
       "      <td>Browser #4</td>\n",
       "      <td>exp</td>\n",
       "      <td>54</td>\n",
       "      <td>68</td>\n",
       "      <td>30</td>\n",
       "    </tr>\n",
       "  </tbody>\n",
       "</table>\n",
       "</div>"
      ],
      "text/plain": [
       "   userID     browser     slot  n_clicks  n_queries  n_nonclk_queries\n",
       "0       1  Browser #2      exp        23         32                19\n",
       "1       3  Browser #4      exp         3          4                 2\n",
       "2       5  Browser #4      exp        29         35                16\n",
       "3       6  Browser #4  control        12          6                 0\n",
       "4       7  Browser #4      exp        54         68                30"
      ]
     },
     "execution_count": 2,
     "metadata": {},
     "output_type": "execute_result"
    }
   ],
   "source": [
    "data = pd.read_csv('ab_browser_test.csv', sep=',')\n",
    "data.head()"
   ]
  },
  {
   "cell_type": "code",
   "execution_count": 3,
   "metadata": {},
   "outputs": [],
   "source": [
    "data.browser = [int(data.browser[i][9:]) for i in range(data.shape[0])]"
   ]
  },
  {
   "cell_type": "code",
   "execution_count": 4,
   "metadata": {},
   "outputs": [
    {
     "data": {
      "text/html": [
       "<div>\n",
       "<style scoped>\n",
       "    .dataframe tbody tr th:only-of-type {\n",
       "        vertical-align: middle;\n",
       "    }\n",
       "\n",
       "    .dataframe tbody tr th {\n",
       "        vertical-align: top;\n",
       "    }\n",
       "\n",
       "    .dataframe thead th {\n",
       "        text-align: right;\n",
       "    }\n",
       "</style>\n",
       "<table border=\"1\" class=\"dataframe\">\n",
       "  <thead>\n",
       "    <tr style=\"text-align: right;\">\n",
       "      <th></th>\n",
       "      <th>userID</th>\n",
       "      <th>browser</th>\n",
       "      <th>slot</th>\n",
       "      <th>n_clicks</th>\n",
       "      <th>n_queries</th>\n",
       "      <th>n_nonclk_queries</th>\n",
       "    </tr>\n",
       "  </thead>\n",
       "  <tbody>\n",
       "    <tr>\n",
       "      <th>0</th>\n",
       "      <td>1</td>\n",
       "      <td>2</td>\n",
       "      <td>exp</td>\n",
       "      <td>23</td>\n",
       "      <td>32</td>\n",
       "      <td>19</td>\n",
       "    </tr>\n",
       "    <tr>\n",
       "      <th>1</th>\n",
       "      <td>3</td>\n",
       "      <td>4</td>\n",
       "      <td>exp</td>\n",
       "      <td>3</td>\n",
       "      <td>4</td>\n",
       "      <td>2</td>\n",
       "    </tr>\n",
       "    <tr>\n",
       "      <th>2</th>\n",
       "      <td>5</td>\n",
       "      <td>4</td>\n",
       "      <td>exp</td>\n",
       "      <td>29</td>\n",
       "      <td>35</td>\n",
       "      <td>16</td>\n",
       "    </tr>\n",
       "    <tr>\n",
       "      <th>3</th>\n",
       "      <td>6</td>\n",
       "      <td>4</td>\n",
       "      <td>control</td>\n",
       "      <td>12</td>\n",
       "      <td>6</td>\n",
       "      <td>0</td>\n",
       "    </tr>\n",
       "    <tr>\n",
       "      <th>4</th>\n",
       "      <td>7</td>\n",
       "      <td>4</td>\n",
       "      <td>exp</td>\n",
       "      <td>54</td>\n",
       "      <td>68</td>\n",
       "      <td>30</td>\n",
       "    </tr>\n",
       "    <tr>\n",
       "      <th>5</th>\n",
       "      <td>8</td>\n",
       "      <td>4</td>\n",
       "      <td>control</td>\n",
       "      <td>4</td>\n",
       "      <td>4</td>\n",
       "      <td>1</td>\n",
       "    </tr>\n",
       "    <tr>\n",
       "      <th>6</th>\n",
       "      <td>9</td>\n",
       "      <td>4</td>\n",
       "      <td>exp</td>\n",
       "      <td>6</td>\n",
       "      <td>3</td>\n",
       "      <td>1</td>\n",
       "    </tr>\n",
       "    <tr>\n",
       "      <th>7</th>\n",
       "      <td>10</td>\n",
       "      <td>4</td>\n",
       "      <td>control</td>\n",
       "      <td>22</td>\n",
       "      <td>15</td>\n",
       "      <td>2</td>\n",
       "    </tr>\n",
       "    <tr>\n",
       "      <th>8</th>\n",
       "      <td>13</td>\n",
       "      <td>14</td>\n",
       "      <td>exp</td>\n",
       "      <td>2</td>\n",
       "      <td>4</td>\n",
       "      <td>3</td>\n",
       "    </tr>\n",
       "    <tr>\n",
       "      <th>9</th>\n",
       "      <td>15</td>\n",
       "      <td>14</td>\n",
       "      <td>control</td>\n",
       "      <td>2</td>\n",
       "      <td>2</td>\n",
       "      <td>0</td>\n",
       "    </tr>\n",
       "  </tbody>\n",
       "</table>\n",
       "</div>"
      ],
      "text/plain": [
       "   userID  browser     slot  n_clicks  n_queries  n_nonclk_queries\n",
       "0       1        2      exp        23         32                19\n",
       "1       3        4      exp         3          4                 2\n",
       "2       5        4      exp        29         35                16\n",
       "3       6        4  control        12          6                 0\n",
       "4       7        4      exp        54         68                30\n",
       "5       8        4  control         4          4                 1\n",
       "6       9        4      exp         6          3                 1\n",
       "7      10        4  control        22         15                 2\n",
       "8      13       14      exp         2          4                 3\n",
       "9      15       14  control         2          2                 0"
      ]
     },
     "execution_count": 4,
     "metadata": {},
     "output_type": "execute_result"
    }
   ],
   "source": [
    "data.head(10)"
   ]
  },
  {
   "cell_type": "markdown",
   "metadata": {},
   "source": [
    "Основная метрика, на которой мы сосредоточимся в этой работе, — это количество пользовательских кликов на web-странице в зависимости от тестируемого изменения этой страницы.\n",
    "\n",
    "Посчитайте, насколько в группе exp больше пользовательских кликов по сравнению с группой control в процентах от числа кликов в контрольной группе.\n",
    "\n",
    "Полученный процент округлите до третьего знака после точки."
   ]
  },
  {
   "cell_type": "code",
   "execution_count": 5,
   "metadata": {
    "scrolled": true
   },
   "outputs": [],
   "source": [
    "exp = data[data.slot == 'exp']\n",
    "control = data[data.slot == 'control']\n",
    "\n",
    "exp_people = exp['slot'].value_counts()\n",
    "control_people = control['slot'].value_counts()\n"
   ]
  },
  {
   "cell_type": "code",
   "execution_count": 6,
   "metadata": {},
   "outputs": [
    {
     "name": "stdout",
     "output_type": "stream",
     "text": [
      "1.614\n"
     ]
    }
   ],
   "source": [
    "exp_n_clics = exp.n_clicks.sum()\n",
    "control_n_clics = control.n_clicks.sum()\n",
    "print (round(((exp_n_clics / control_n_clics - 1) * 100),3))"
   ]
  },
  {
   "cell_type": "code",
   "execution_count": 7,
   "metadata": {},
   "outputs": [
    {
     "name": "stdout",
     "output_type": "stream",
     "text": [
      "3261823 3210027\n"
     ]
    }
   ],
   "source": [
    "print (exp_n_clics, control_n_clics)"
   ]
  },
  {
   "cell_type": "markdown",
   "metadata": {},
   "source": [
    "Давайте попробуем посмотреть более внимательно на разницу между двумя группами (control и exp) относительно количества пользовательских кликов.\n",
    "\n",
    "Для этого постройте с помощью бутстрепа 95% доверительный интервал для средних значений и медиан количества кликов в каждой из двух групп. Отметьте все верные утверждения."
   ]
  },
  {
   "cell_type": "code",
   "execution_count": 8,
   "metadata": {},
   "outputs": [],
   "source": [
    "def get_bootstrap_samples(data, n_samples):\n",
    "    indices = np.random.randint(0, len(data), (n_samples, len(data)))\n",
    "    samples = data[indices]\n",
    "    return samples\n",
    "def stat_intervals(stat, alpha):\n",
    "    boundaries = np.percentile(stat, [100 * alpha / 2., 100 * (1 - alpha / 2.)])\n",
    "    return boundaries"
   ]
  },
  {
   "cell_type": "code",
   "execution_count": 9,
   "metadata": {
    "scrolled": true
   },
   "outputs": [
    {
     "name": "stdout",
     "output_type": "stream",
     "text": [
      "95% доверительный интервал для median_exp: [5. 5.]\n",
      "95% доверительный интервал для median_control: [4. 4.]\n",
      "95% доверительный интервал для разности медиан: [1. 1.]\n",
      "\n",
      "\n",
      "\n",
      "95% доверительный интервал для mean_exp: [11.50674915 11.65758017]\n",
      "95% доверительный интервал для mean_control: [11.21242374 11.35449133]\n",
      "95% доверительный интервал для разности средних: [0.19866114 0.40975645]\n"
     ]
    }
   ],
   "source": [
    "np.random.seed(0)\n",
    "\n",
    "exp_n_clics_median_scores = list(map(np.median, get_bootstrap_samples(exp.n_clicks.values, 1000)))\n",
    "control_n_clics_median_scores = list(map(np.median, get_bootstrap_samples(control.n_clicks.values, 1000)))\n",
    "\n",
    "exp_n_clics_mean_scores = list(map(np.mean, get_bootstrap_samples(exp.n_clicks.values, 1000)))\n",
    "control_n_clics_mean_scores = list(map(np.mean, get_bootstrap_samples(control.n_clicks.values, 1000)))\n",
    "\n",
    "delta_median_scores = list(map(lambda x: x[0] - x[1], zip(exp_n_clics_median_scores, control_n_clics_median_scores)))\n",
    "delta_mean_scores = list(map(lambda x: x[0] - x[1], zip(exp_n_clics_mean_scores, control_n_clics_mean_scores)))\n",
    "\n",
    "print(\"95% доверительный интервал для median_exp:\",  stat_intervals(exp_n_clics_median_scores, 0.05))\n",
    "print(\"95% доверительный интервал для median_control:\",  stat_intervals(control_n_clics_median_scores, 0.05))\n",
    "print(\"95% доверительный интервал для разности медиан:\",  stat_intervals(delta_median_scores, 0.05))\n",
    "print('\\n\\n')\n",
    "print(\"95% доверительный интервал для mean_exp:\",  stat_intervals(exp_n_clics_mean_scores, 0.05))\n",
    "print(\"95% доверительный интервал для mean_control:\",  stat_intervals(control_n_clics_mean_scores, 0.05))\n",
    "print(\"95% доверительный интервал для разности средних:\",  stat_intervals(delta_mean_scores, 0.05))\n"
   ]
  },
  {
   "cell_type": "markdown",
   "metadata": {},
   "source": [
    "Ответ: не содержит 0 ни mean, ни median. Нельзя применять bootstrap."
   ]
  },
  {
   "cell_type": "markdown",
   "metadata": {},
   "source": [
    "Поскольку данных достаточно много (порядка полумиллиона уникальных пользователей), отличие в несколько процентов может быть не только практически значимым, но и значимым статистически. Последнее утверждение нуждается в дополнительной проверке.\n",
    "\n",
    "Посмотрите на выданные вам данные и выберите все верные варианты ответа относительно проверки гипотезы о равенстве среднего количества кликов в группах."
   ]
  },
  {
   "cell_type": "code",
   "execution_count": 10,
   "metadata": {},
   "outputs": [
    {
     "data": {
      "image/png": "[encoded data removed]",
      "text/plain": [
       "<Figure size 1080x504 with 2 Axes>"
      ]
     },
     "metadata": {
      "needs_background": "light"
     },
     "output_type": "display_data"
    }
   ],
   "source": [
    "plt.figure(1,figsize=(15,7))\n",
    "plt.subplot(121)\n",
    "plt.hist(exp['n_clicks'],bins = 100)\n",
    "plt.grid()\n",
    "plt.subplot(122)\n",
    "plt.hist(control['n_clicks'],bins = 100)\n",
    "plt.grid()\n",
    "plt.show()"
   ]
  },
  {
   "cell_type": "markdown",
   "metadata": {},
   "source": [
    "t-критерий Стьюдента имеет множество достоинств, и потому его достаточно часто применяют в AB экспериментах. Иногда его применение может быть необоснованно из-за сильной скошенности распределения данных.\n",
    "\n",
    "Для простоты рассмотрим одновыборочный t-критерий. Чтобы действительно предположения t-критерия выполнялись необходимо, чтобы:\n",
    "\n",
    "- среднее значение в выборке было распределено нормально N(μ,σ2n)\n",
    "- несмещенная оценка дисперсии c масштабирующим коэффициентом была распределена по хи-квадрат c n−1 степенями свободы χ2(n−1)\n",
    "\n",
    "Оба этих предположения можно проверить с помощью бутстрепа. Ограничимся сейчас только контрольной группой, в которой распределение кликов будем называть данными в рамках данного вопроса.\n",
    "\n",
    "Поскольку мы не знаем истинного распределения генеральной совокупности, мы можем применить бутстреп, чтобы понять, как распределены среднее значение и выборочная дисперсия.\n",
    "\n",
    "Для этого\n",
    "- получим из данных n_boot_samples псевдовыборок.\n",
    "- по каждой из этих выборок посчитаем среднее и сумму квадратов отклонения от выборочного среднего\n",
    "- для получившегося вектора средних значений из n_boot_samples построим q-q plot с помощью scipy.stats.probplot для нормального - распределения\n",
    "- для получившегося вектора сумм квадратов отклонения от выборочного среднего построим qq-plot с помощью scipy.stats.probplot для хи-квадрат распределения"
   ]
  },
  {
   "cell_type": "code",
   "execution_count": 11,
   "metadata": {},
   "outputs": [],
   "source": [
    "control_n_clics_variation_scores = list(map(np.var, get_bootstrap_samples(control.n_clicks.values, 1000)))\n"
   ]
  },
  {
   "cell_type": "code",
   "execution_count": 12,
   "metadata": {},
   "outputs": [
    {
     "data": {
      "text/plain": [
       "Text(0.5, 1.0, 'Probability plot for var')"
      ]
     },
     "execution_count": 12,
     "metadata": {},
     "output_type": "execute_result"
    },
    {
     "data": {
      "image/png": "[encoded data removed]",
      "text/plain": [
       "<Figure size 432x288 with 1 Axes>"
      ]
     },
     "metadata": {
      "needs_background": "light"
     },
     "output_type": "display_data"
    }
   ],
   "source": [
    "stats.probplot(control_n_clics_variation_scores, dist=\"chi2\", \n",
    "                     sparams=(len(control_n_clics_mean_scores)-1), plot=plt,rvalue=True)\n",
    "plt.title('Probability plot for var')"
   ]
  },
  {
   "cell_type": "code",
   "execution_count": 13,
   "metadata": {
    "scrolled": true
   },
   "outputs": [
    {
     "data": {
      "text/plain": [
       "Text(0.5, 1.0, 'Probability plot for means')"
      ]
     },
     "execution_count": 13,
     "metadata": {},
     "output_type": "execute_result"
    },
    {
     "data": {
      "image/png": "[encoded data removed]",
      "text/plain": [
       "<Figure size 432x288 with 1 Axes>"
      ]
     },
     "metadata": {
      "needs_background": "light"
     },
     "output_type": "display_data"
    }
   ],
   "source": [
    "stats.probplot(control_n_clics_mean_scores, plot=plt, rvalue=True)\n",
    "plt.title('Probability plot for means')"
   ]
  },
  {
   "cell_type": "markdown",
   "metadata": {},
   "source": [
    "Одним из возможных аналогов t-критерия, которым можно воспрользоваться, является тест Манна-Уитни. На достаточно обширном классе распределений он является асимптотически более эффективным, чем t-критерий, и при этом не требует параметрических предположений о характере распределения.\n",
    "\n",
    "Разделите выборку на две части, соответствующие control и exp группам. Преобразуйте данные к виду, чтобы каждому пользователю соответствовало суммарное значение его кликов. С помощью критерия Манна-Уитни проверьте гипотезу о равенстве средних. Что можно сказать о получившемся значении достигаемого уровня значимости ? Выберите все правильные ответы"
   ]
  },
  {
   "cell_type": "code",
   "execution_count": 14,
   "metadata": {},
   "outputs": [
    {
     "data": {
      "text/plain": [
       "userID  browser\n",
       "6       4          12\n",
       "8       4           4\n",
       "10      4          22\n",
       "15      14          2\n",
       "23      4           3\n",
       "                   ..\n",
       "603128  14          5\n",
       "603132  22          1\n",
       "603133  14          1\n",
       "603135  4           0\n",
       "603136  4           2\n",
       "Name: n_clicks, Length: 284554, dtype: int64"
      ]
     },
     "execution_count": 14,
     "metadata": {},
     "output_type": "execute_result"
    }
   ],
   "source": [
    "user_clics_exp = exp.groupby(['userID','browser']).sum().loc[:,'n_clicks']\n",
    "user_clics_control = control.groupby(['userID','browser']).sum().loc[:,'n_clicks']\n",
    "user_clics_control"
   ]
  },
  {
   "cell_type": "code",
   "execution_count": 15,
   "metadata": {},
   "outputs": [
    {
     "data": {
      "text/plain": [
       "MannwhitneyuResult(statistic=41184125116.0, pvalue=6.247235801369629e-75)"
      ]
     },
     "execution_count": 15,
     "metadata": {},
     "output_type": "execute_result"
    }
   ],
   "source": [
    "stats.mannwhitneyu(user_clics_exp, user_clics_control, alternative='two-sided')"
   ]
  },
  {
   "cell_type": "markdown",
   "metadata": {},
   "source": [
    "Проверьте, для какого из браузеров наиболее сильно выражено отличие между количеством кликов в контрольной и экспериментальной группах.\n",
    "\n",
    "Для этого примените для каждого из срезов (по каждому из уникальных значений столбца browser) критерий Манна-Уитни между control и exp группами и сделайте поправку Холма-Бонферрони на множественную проверку с \\alpha=0.05α=0.05.\n",
    "\n",
    "Какое заключение можно сделать исходя из полученных результатов ?\n",
    "\n",
    "В качестве ответа введите количество незначимых изменений с точки зрения результатов, полученных после введения коррекции."
   ]
  },
  {
   "cell_type": "code",
   "execution_count": 16,
   "metadata": {},
   "outputs": [
    {
     "data": {
      "text/plain": [
       "browser  userID\n",
       "2        29         9\n",
       "         32         3\n",
       "         60         5\n",
       "         70         5\n",
       "         73        13\n",
       "                   ..\n",
       "22       603121     0\n",
       "         603123     1\n",
       "         603124     4\n",
       "         603125     1\n",
       "         603132     1\n",
       "Name: n_clicks, Length: 284554, dtype: int64"
      ]
     },
     "execution_count": 16,
     "metadata": {},
     "output_type": "execute_result"
    }
   ],
   "source": [
    "browser_clics_exp = exp.groupby(['browser', 'userID']).sum().loc[:,'n_clicks']\n",
    "browser_clics_control = control.groupby(['browser', 'userID']).sum().loc[:,'n_clicks']\n",
    "browser_clics_control"
   ]
  },
  {
   "cell_type": "code",
   "execution_count": 17,
   "metadata": {},
   "outputs": [],
   "source": [
    "from statsmodels.sandbox.stats.multicomp import multipletests "
   ]
  },
  {
   "cell_type": "code",
   "execution_count": 18,
   "metadata": {},
   "outputs": [
    {
     "name": "stdout",
     "output_type": "stream",
     "text": [
      "Критерий Манна-Уитни\n",
      "Browser # 2 p-value 0.0544877208394482\n",
      "Browser # 4 p-value 0.8152123531690997\n",
      "Browser # 14 p-value 0.0\n",
      "Browser # 17 p-value 0.07480120286021603\n",
      "Browser # 20 p-value 0.9073331277747075\n",
      "Browser # 22 p-value 0.5148110304420064\n",
      "Критерий Манна-Уитни с поправкой Холма-Бонферрони\n",
      "Browser # 2 p-value 0.27243860419724103\n",
      "Browser # 4 p-value 1.0\n",
      "Browser # 14 p-value 0.0\n",
      "Browser # 17 p-value 0.29920481144086414\n",
      "Browser # 20 p-value 1.0\n",
      "Browser # 22 p-value 1.0\n"
     ]
    }
   ],
   "source": [
    "browsers = np.unique(data.browser)\n",
    "\n",
    "print ('Критерий Манна-Уитни')\n",
    "mw = np.empty(browsers.shape[0])\n",
    "for i, br in enumerate(browsers):\n",
    "    mw[i] = stats.mannwhitneyu(browser_clics_exp.loc[br,:], browser_clics_control.loc[br,:], alternative='two-sided')[1]\n",
    "    print ('Browser #', br,\n",
    "           'p-value', mw[i])\n",
    "\n",
    "print ('Критерий Манна-Уитни с поправкой Холма-Бонферрони')\n",
    "mw_corr =  multipletests(mw,alpha = 0.05,method = 'holm')[1]\n",
    "for i, br in enumerate(browsers):\n",
    "    print ('Browser #', br,\n",
    "           'p-value',mw_corr[i] )\n"
   ]
  },
  {
   "cell_type": "code",
   "execution_count": 19,
   "metadata": {},
   "outputs": [
    {
     "name": "stdout",
     "output_type": "stream",
     "text": [
      "Control / experimental groups\n",
      "Browser #2 [0.45962747] / [0.44982747]\n",
      "Browser #4 [0.4697093] / [0.45142942]\n",
      "Browser #14 [0.57590411] / [0.43755617]\n",
      "Browser #17 [0.36299367] / [0.36937413]\n",
      "Browser #20 [0.40540485] / [0.38977376]\n",
      "Browser #22 [0.40593977] / [0.39853947]\n"
     ]
    }
   ],
   "source": [
    "\n",
    "browsers_nonclk_q_exp = exp.groupby(['browser']).sum().loc[:,'n_nonclk_queries']\n",
    "browsers_clk_q_exp = exp.groupby(['browser']).sum().loc[:,'n_queries']\n",
    "browsers_nonclk_q_prop_exp = browsers_nonclk_q_exp / browsers_clk_q_exp\n",
    "\n",
    "browsers_nonclk_q_ctrl = control.groupby(['browser']).sum().loc[:,'n_nonclk_queries']\n",
    "browsers_clk_q_ctrl = control.groupby(['browser']).sum().loc[:,'n_queries']\n",
    "browsers_nonclk_q_prop_ctrl = browsers_nonclk_q_ctrl / browsers_clk_q_ctrl\n",
    "\n",
    "print('Control / experimental groups')\n",
    "for br in browsers:\n",
    "    print('Browser #%d' % br, browsers_nonclk_q_prop_ctrl.loc[browsers_nonclk_q_prop_ctrl.index == br].values, '/', \n",
    "          browsers_nonclk_q_prop_exp.loc[browsers_nonclk_q_prop_ctrl.index == br].values)\n",
    "   "
   ]
  },
  {
   "cell_type": "code",
   "execution_count": null,
   "metadata": {},
   "outputs": [],
   "source": []
  }
 ],
 "metadata": {
  "kernelspec": {
   "display_name": "Python 3",
   "language": "python",
   "name": "python3"
  },
  "language_info": {
   "codemirror_mode": {
    "name": "ipython",
    "version": 3
   },
   "file_extension": ".py",
   "mimetype": "text/x-python",
   "name": "python",
   "nbconvert_exporter": "python",
   "pygments_lexer": "ipython3",
   "version": "3.7.6"
  }
 },
 "nbformat": 4,
 "nbformat_minor": 4
}
