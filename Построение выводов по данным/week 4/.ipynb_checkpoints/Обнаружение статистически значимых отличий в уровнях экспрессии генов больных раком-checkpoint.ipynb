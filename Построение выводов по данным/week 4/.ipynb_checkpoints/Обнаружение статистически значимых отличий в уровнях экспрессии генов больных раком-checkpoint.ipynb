{
 "cells": [
  {
   "cell_type": "code",
   "execution_count": 27,
   "metadata": {},
   "outputs": [],
   "source": [
    "import pandas as pd\n",
    "import numpy as np\n",
    "\n",
    "from scipy.stats import pearsonr\n",
    "from statsmodels.sandbox.stats.multicomp import multipletests \n",
    "from itertools import combinations\n",
    "from scipy import stats\n",
    "%matplotlib inline\n",
    "import matplotlib.pyplot as plt\n",
    "import seaborn as sns\n"
   ]
  },
  {
   "cell_type": "markdown",
   "metadata": {},
   "source": [
    "Описание используемых данных\n",
    "Данные для этой задачи взяты из исследования, проведенного в Stanford School of Medicine. В исследовании была предпринята попытка выявить набор генов, которые позволили бы более точно диагностировать возникновение рака груди на самых ранних стадиях.\n",
    "\n",
    "В эксперименте принимали участие 24 человек, у которых не было рака груди (normal), 25 человек, у которых это заболевание было диагностировано на ранней стадии (early neoplasia), и 23 человека с сильно выраженными симптомами (cancer).\n",
    "\n",
    "Ученые провели секвенирование биологического материала испытуемых, чтобы понять, какие из этих генов наиболее активны в клетках больных людей.\n",
    "\n",
    "Секвенирование — это определение степени активности генов в анализируемом образце с помощью подсчёта количества соответствующей каждому гену РНК.\n",
    "\n",
    "В данных для этого задания вы найдете именно эту количественную меру активности каждого из 15748 генов у каждого из 72 человек, принимавших участие в эксперименте.\n",
    "\n",
    "Вам нужно будет определить те гены, активность которых у людей в разных стадиях заболевания отличается статистически значимо.\n",
    "\n",
    "Кроме того, вам нужно будет оценить не только статистическую, но и практическую значимость этих результатов, которая часто используется в подобных исследованиях.\n",
    "\n",
    "Диагноз человека содержится в столбце под названием \"Diagnosis\"."
   ]
  },
  {
   "cell_type": "markdown",
   "metadata": {},
   "source": [
    "Практическая значимость изменения\n",
    "Цель исследований — найти гены, средняя экспрессия которых отличается не только статистически значимо, но и достаточно сильно. В экспрессионных исследованиях для этого часто используется метрика, которая называется fold change (кратность изменения). Определяется она следующим образом:\n",
    "\n",
    "Fc(C,T)=T/C при T>C и -T/C при T<C,\n",
    "    \n",
    "где C, T — средние значения экспрессии гена в control и treatment группах соответственно. По сути, fold change показывает, во сколько раз отличаются средние двух выборок."
   ]
  },
  {
   "cell_type": "code",
   "execution_count": 6,
   "metadata": {
    "scrolled": true
   },
   "outputs": [
    {
     "data": {
      "text/html": [
       "<div>\n",
       "<style scoped>\n",
       "    .dataframe tbody tr th:only-of-type {\n",
       "        vertical-align: middle;\n",
       "    }\n",
       "\n",
       "    .dataframe tbody tr th {\n",
       "        vertical-align: top;\n",
       "    }\n",
       "\n",
       "    .dataframe thead th {\n",
       "        text-align: right;\n",
       "    }\n",
       "</style>\n",
       "<table border=\"1\" class=\"dataframe\">\n",
       "  <thead>\n",
       "    <tr style=\"text-align: right;\">\n",
       "      <th></th>\n",
       "      <th>Patient_id</th>\n",
       "      <th>Diagnosis</th>\n",
       "      <th>LOC643837</th>\n",
       "      <th>LOC100130417</th>\n",
       "      <th>SAMD11</th>\n",
       "      <th>NOC2L</th>\n",
       "      <th>KLHL17</th>\n",
       "      <th>PLEKHN1</th>\n",
       "      <th>C1orf170</th>\n",
       "      <th>HES4</th>\n",
       "      <th>...</th>\n",
       "      <th>CLIC2</th>\n",
       "      <th>RPS4Y1</th>\n",
       "      <th>ZFY</th>\n",
       "      <th>PRKY</th>\n",
       "      <th>USP9Y</th>\n",
       "      <th>DDX3Y</th>\n",
       "      <th>CD24</th>\n",
       "      <th>CYorf15B</th>\n",
       "      <th>KDM5D</th>\n",
       "      <th>EIF1AY</th>\n",
       "    </tr>\n",
       "  </thead>\n",
       "  <tbody>\n",
       "    <tr>\n",
       "      <th>0</th>\n",
       "      <td>STT5425_Breast_001_normal</td>\n",
       "      <td>normal</td>\n",
       "      <td>1.257614</td>\n",
       "      <td>2.408148</td>\n",
       "      <td>13.368622</td>\n",
       "      <td>9.494779</td>\n",
       "      <td>20.880435</td>\n",
       "      <td>12.722017</td>\n",
       "      <td>9.494779</td>\n",
       "      <td>54.349694</td>\n",
       "      <td>...</td>\n",
       "      <td>4.761250</td>\n",
       "      <td>1.257614</td>\n",
       "      <td>1.257614</td>\n",
       "      <td>1.257614</td>\n",
       "      <td>1.257614</td>\n",
       "      <td>1.257614</td>\n",
       "      <td>23.268694</td>\n",
       "      <td>1.257614</td>\n",
       "      <td>1.257614</td>\n",
       "      <td>1.257614</td>\n",
       "    </tr>\n",
       "    <tr>\n",
       "      <th>1</th>\n",
       "      <td>STT5427_Breast_023_normal</td>\n",
       "      <td>normal</td>\n",
       "      <td>4.567931</td>\n",
       "      <td>16.602734</td>\n",
       "      <td>42.477752</td>\n",
       "      <td>25.562376</td>\n",
       "      <td>23.221137</td>\n",
       "      <td>11.622386</td>\n",
       "      <td>14.330573</td>\n",
       "      <td>72.445474</td>\n",
       "      <td>...</td>\n",
       "      <td>6.871902</td>\n",
       "      <td>1.815112</td>\n",
       "      <td>1.815112</td>\n",
       "      <td>1.815112</td>\n",
       "      <td>1.815112</td>\n",
       "      <td>1.815112</td>\n",
       "      <td>10.427023</td>\n",
       "      <td>1.815112</td>\n",
       "      <td>1.815112</td>\n",
       "      <td>1.815112</td>\n",
       "    </tr>\n",
       "    <tr>\n",
       "      <th>2</th>\n",
       "      <td>STT5430_Breast_002_normal</td>\n",
       "      <td>normal</td>\n",
       "      <td>2.077597</td>\n",
       "      <td>3.978294</td>\n",
       "      <td>12.863214</td>\n",
       "      <td>13.728915</td>\n",
       "      <td>14.543176</td>\n",
       "      <td>14.141907</td>\n",
       "      <td>6.232790</td>\n",
       "      <td>57.011005</td>\n",
       "      <td>...</td>\n",
       "      <td>7.096343</td>\n",
       "      <td>2.077597</td>\n",
       "      <td>2.077597</td>\n",
       "      <td>2.077597</td>\n",
       "      <td>2.077597</td>\n",
       "      <td>2.077597</td>\n",
       "      <td>22.344226</td>\n",
       "      <td>2.077597</td>\n",
       "      <td>2.077597</td>\n",
       "      <td>2.077597</td>\n",
       "    </tr>\n",
       "    <tr>\n",
       "      <th>3</th>\n",
       "      <td>STT5439_Breast_003_normal</td>\n",
       "      <td>normal</td>\n",
       "      <td>2.066576</td>\n",
       "      <td>8.520713</td>\n",
       "      <td>14.466035</td>\n",
       "      <td>7.823932</td>\n",
       "      <td>8.520713</td>\n",
       "      <td>2.066576</td>\n",
       "      <td>10.870009</td>\n",
       "      <td>53.292034</td>\n",
       "      <td>...</td>\n",
       "      <td>5.200770</td>\n",
       "      <td>2.066576</td>\n",
       "      <td>2.066576</td>\n",
       "      <td>2.066576</td>\n",
       "      <td>2.066576</td>\n",
       "      <td>2.066576</td>\n",
       "      <td>49.295538</td>\n",
       "      <td>2.066576</td>\n",
       "      <td>2.066576</td>\n",
       "      <td>2.066576</td>\n",
       "    </tr>\n",
       "    <tr>\n",
       "      <th>4</th>\n",
       "      <td>STT5441_Breast_004_normal</td>\n",
       "      <td>normal</td>\n",
       "      <td>2.613616</td>\n",
       "      <td>3.434965</td>\n",
       "      <td>12.682222</td>\n",
       "      <td>10.543189</td>\n",
       "      <td>26.688686</td>\n",
       "      <td>12.484822</td>\n",
       "      <td>1.364917</td>\n",
       "      <td>67.140393</td>\n",
       "      <td>...</td>\n",
       "      <td>11.227770</td>\n",
       "      <td>1.364917</td>\n",
       "      <td>1.364917</td>\n",
       "      <td>1.364917</td>\n",
       "      <td>1.364917</td>\n",
       "      <td>1.364917</td>\n",
       "      <td>23.627911</td>\n",
       "      <td>1.364917</td>\n",
       "      <td>1.364917</td>\n",
       "      <td>1.364917</td>\n",
       "    </tr>\n",
       "  </tbody>\n",
       "</table>\n",
       "<p>5 rows × 15750 columns</p>\n",
       "</div>"
      ],
      "text/plain": [
       "                  Patient_id Diagnosis  LOC643837  LOC100130417     SAMD11  \\\n",
       "0  STT5425_Breast_001_normal    normal   1.257614      2.408148  13.368622   \n",
       "1  STT5427_Breast_023_normal    normal   4.567931     16.602734  42.477752   \n",
       "2  STT5430_Breast_002_normal    normal   2.077597      3.978294  12.863214   \n",
       "3  STT5439_Breast_003_normal    normal   2.066576      8.520713  14.466035   \n",
       "4  STT5441_Breast_004_normal    normal   2.613616      3.434965  12.682222   \n",
       "\n",
       "       NOC2L     KLHL17    PLEKHN1   C1orf170       HES4  ...      CLIC2  \\\n",
       "0   9.494779  20.880435  12.722017   9.494779  54.349694  ...   4.761250   \n",
       "1  25.562376  23.221137  11.622386  14.330573  72.445474  ...   6.871902   \n",
       "2  13.728915  14.543176  14.141907   6.232790  57.011005  ...   7.096343   \n",
       "3   7.823932   8.520713   2.066576  10.870009  53.292034  ...   5.200770   \n",
       "4  10.543189  26.688686  12.484822   1.364917  67.140393  ...  11.227770   \n",
       "\n",
       "     RPS4Y1       ZFY      PRKY     USP9Y     DDX3Y       CD24  CYorf15B  \\\n",
       "0  1.257614  1.257614  1.257614  1.257614  1.257614  23.268694  1.257614   \n",
       "1  1.815112  1.815112  1.815112  1.815112  1.815112  10.427023  1.815112   \n",
       "2  2.077597  2.077597  2.077597  2.077597  2.077597  22.344226  2.077597   \n",
       "3  2.066576  2.066576  2.066576  2.066576  2.066576  49.295538  2.066576   \n",
       "4  1.364917  1.364917  1.364917  1.364917  1.364917  23.627911  1.364917   \n",
       "\n",
       "      KDM5D    EIF1AY  \n",
       "0  1.257614  1.257614  \n",
       "1  1.815112  1.815112  \n",
       "2  2.077597  2.077597  \n",
       "3  2.066576  2.066576  \n",
       "4  1.364917  1.364917  \n",
       "\n",
       "[5 rows x 15750 columns]"
      ]
     },
     "execution_count": 6,
     "metadata": {},
     "output_type": "execute_result"
    }
   ],
   "source": [
    "gene = pd.read_csv('gene_high_throughput_sequencing.csv', sep=',')\n",
    "gene.head()"
   ]
  },
  {
   "cell_type": "code",
   "execution_count": 9,
   "metadata": {},
   "outputs": [
    {
     "data": {
      "image/png": "[encoded data removed]",
      "text/plain": [
       "<Figure size 432x288 with 1 Axes>"
      ]
     },
     "metadata": {
      "needs_background": "light"
     },
     "output_type": "display_data"
    }
   ],
   "source": [
    "value, count = np.unique(gene.Diagnosis.values, return_counts=True)\n",
    "sns.barplot(value, count)\n",
    "plt.xlabel('Diagnosis')\n",
    "plt.ylabel('Count')\n",
    "plt.show()"
   ]
  },
  {
   "cell_type": "markdown",
   "metadata": {},
   "source": [
    "Часть 1: применение t-критерия Стьюдента\n",
    "\n",
    "В первой части вам нужно будет применить критерий Стьюдента для проверки гипотезы о равенстве средних в двух независимых выборках. Применить критерий для каждого гена нужно будет дважды:\n",
    "\n",
    "1) для групп normal (control) и early neoplasia (treatment)\n",
    "\n",
    "2) для групп early neoplasia (control) и cancer (treatment)\n",
    "\n",
    "В качестве ответа в этой части задания необходимо указать количество статистически значимых отличий, которые вы нашли с помощью t-критерия Стьюдента, то есть число генов, у которых p-value этого теста оказался меньше, чем уровень значимости."
   ]
  },
  {
   "cell_type": "code",
   "execution_count": 11,
   "metadata": {},
   "outputs": [],
   "source": [
    "gen_normal = gene[gene.Diagnosis == 'normal']\n",
    "gen_neoplasia = gene[gene.Diagnosis == 'early neoplasia']\n",
    "gen_cancer = gene[gene.Diagnosis == 'cancer']"
   ]
  },
  {
   "cell_type": "code",
   "execution_count": 44,
   "metadata": {},
   "outputs": [],
   "source": [
    "tt_normal_neoplasia = stats.ttest_ind(gen_normal.iloc[:,2:], gen_neoplasia.iloc[:,2:],equal_var=False)\n",
    "tt_normal_neoplasia_p = tt_normal_neoplasia[1]\n",
    "\n",
    "tt_neoplasia_cancer = stats.ttest_ind(gen_neoplasia.iloc[:,2:], gen_cancer.iloc[:,2:],equal_var=False)\n",
    "tt_neoplasia_cancer_p = tt_neoplasia_cancer[1]"
   ]
  },
  {
   "cell_type": "code",
   "execution_count": 45,
   "metadata": {},
   "outputs": [
    {
     "name": "stdout",
     "output_type": "stream",
     "text": [
      "Normal vs neoplasia:  1575\n",
      "Neoplasia vs cancer:  3490\n"
     ]
    }
   ],
   "source": [
    "tt_normal_neoplasia_p_005 = tt_normal_neoplasia_p[np.where(tt_normal_neoplasia_p < 0.05)].shape[0]\n",
    "tt_neoplasia_cancer_p_005 = tt_neoplasia_cancer_p[np.where(tt_neoplasia_cancer_p < 0.05)].shape[0]\n",
    "print('Normal vs neoplasia: ',tt_normal_neoplasia_p_005)\n",
    "print('Neoplasia vs cancer: ',tt_neoplasia_cancer_p_005)"
   ]
  },
  {
   "cell_type": "code",
   "execution_count": 46,
   "metadata": {},
   "outputs": [],
   "source": [
    "with open('answer 1.txt','w') as f:\n",
    "    f.write(str(tt_normal_neoplasia_p_005))\n",
    "with open('answer 2.txt','w') as f:\n",
    "    f.write(str(tt_neoplasia_cancer_p_005))"
   ]
  },
  {
   "cell_type": "markdown",
   "metadata": {},
   "source": [
    "Для этой части задания вам понадобится модуль multitest из statsmodels.\n",
    "\n",
    "В этой части задания нужно будет применить поправку Холма для получившихся двух наборов достигаемых уровней значимости из предыдущей части. Обратите внимание, что поскольку вы будете делать поправку для каждого из двух наборов p-value отдельно, то проблема, связанная с множественной проверкой останется.\n",
    "\n",
    "Для того, чтобы ее устранить, достаточно воспользоваться поправкой Бонферрони, то есть использовать уровень значимости 0.05 / 2 вместо 0.05 для дальнейшего уточнения значений p-value c помощью метода Холма.\n",
    "\n",
    "В качестве ответа к этому заданию требуется ввести количество значимых отличий в каждой группе после того, как произведена коррекция Холма-Бонферрони. Причем это число нужно ввести с учетом практической значимости: посчитайте для каждого значимого изменения fold change и выпишите в ответ число таких значимых изменений, абсолютное значение fold change которых больше, чем 1.51.5.\n",
    "\n",
    "Обратите внимание, что \n",
    "- применять поправку на множественную проверку нужно ко всем значениям достигаемых уровней значимости, а не только для тех, которые меньше значения уровня доверия.\n",
    "- при использовании поправки на уровне значимости 0.025 меняются значения достигаемого уровня значимости, но не меняется значение уровня доверия (то есть для отбора значимых изменений скорректированные значения уровня значимости нужно сравнивать с порогом 0.025, а не 0.05)!"
   ]
  },
  {
   "cell_type": "code",
   "execution_count": 89,
   "metadata": {},
   "outputs": [
    {
     "data": {
      "text/plain": [
       "array([1., 1., 1., ..., 1., 1., 1.])"
      ]
     },
     "execution_count": 89,
     "metadata": {},
     "output_type": "execute_result"
    }
   ],
   "source": [
    "# Поправка Холма\n",
    "tt_normal_neoplasia_p_corr = multipletests(tt_normal_neoplasia_p, method='holm')\n",
    "tt_neoplasia_cancer_p_corr = multipletests(tt_neoplasia_cancer_p, method='holm')\n",
    "# Поправка Бонферрони\n",
    "p_corr = np.array([tt_normal_neoplasia_p_corr[1],tt_neoplasia_cancer_p_corr[1]])\n",
    "p_corr_bonf = multipletests(p_corr, is_sorted=True, method='bonferroni')\n",
    "p_corr_bonf[1][0]"
   ]
  },
  {
   "cell_type": "code",
   "execution_count": 90,
   "metadata": {},
   "outputs": [
    {
     "name": "stdout",
     "output_type": "stream",
     "text": [
      "Normal vs neoplasia:  2\n",
      "Neoplasia vs cancer:  79\n"
     ]
    }
   ],
   "source": [
    "p_corr_bonf_normal_neoplasia_005 = p_corr_bonf[1][0][np.where(p_corr_bonf[1][0] < 0.05)].shape[0]\n",
    "p_corr_bonf_neoplasia_cancer_005 = p_corr_bonf[1][1][np.where(p_corr_bonf[1][1] < 0.05)].shape[0]\n",
    "print('Normal vs neoplasia: ',p_corr_bonf_normal_neoplasia_005)\n",
    "print('Neoplasia vs cancer: ',p_corr_bonf_neoplasia_cancer_005)"
   ]
  },
  {
   "cell_type": "code",
   "execution_count": 84,
   "metadata": {},
   "outputs": [
    {
     "data": {
      "text/plain": [
       "array([7.15041609e-03, 3.41723888e-03, 3.14153787e-02, 3.27482983e-03,\n",
       "       3.45844009e-02, 1.28780678e-02, 2.24732625e-03, 2.37641917e-04,\n",
       "       4.40538415e-06, 2.34392921e-06, 1.07197452e-02, 1.42103860e-02,\n",
       "       5.23692924e-03, 1.28850400e-03, 2.11061228e-02, 7.80845012e-03,\n",
       "       3.04200838e-02, 1.44734883e-03, 3.93647111e-03, 3.09252823e-02,\n",
       "       1.02189287e-02, 3.22317747e-03, 2.26659589e-02, 4.49186421e-04,\n",
       "       1.92541952e-02, 3.24525765e-04, 2.61471297e-02, 1.76575738e-03,\n",
       "       6.59446331e-04, 7.21735948e-03, 2.95457144e-03, 4.46041059e-05,\n",
       "       2.38177457e-02, 1.30282291e-03, 1.81366962e-02, 2.61355921e-02,\n",
       "       2.21450454e-02, 1.90045833e-02, 7.87779531e-04, 2.47371179e-05,\n",
       "       4.78597821e-03, 2.36502683e-02, 5.69782609e-03, 7.74753834e-04,\n",
       "       6.38717572e-05, 1.52349320e-02, 1.17953774e-02, 4.30423794e-03,\n",
       "       4.65278610e-02, 3.48812839e-03, 1.85703484e-04, 6.21065143e-05,\n",
       "       1.90130287e-02, 8.45315830e-03, 3.55279549e-02, 2.73197268e-03,\n",
       "       5.15691243e-03, 4.12215223e-02, 1.07905679e-02, 2.24618446e-02,\n",
       "       9.62050653e-05, 4.66860740e-03, 1.06211048e-03, 1.71294179e-02,\n",
       "       7.39470134e-03, 1.97763505e-02, 1.73501009e-02, 5.28125859e-03,\n",
       "       3.32683371e-02, 8.14065841e-03, 2.35451429e-04, 1.90733218e-02,\n",
       "       1.16531018e-02, 1.22090321e-04, 6.10460443e-05, 1.25245301e-03,\n",
       "       2.37549533e-03, 1.83030815e-02, 2.13705425e-03])"
      ]
     },
     "execution_count": 84,
     "metadata": {},
     "output_type": "execute_result"
    }
   ],
   "source": [
    "p_corr_bonf[1][1][np.where(p_corr_bonf[1][1] < 0.05)]"
   ]
  },
  {
   "cell_type": "code",
   "execution_count": 91,
   "metadata": {},
   "outputs": [],
   "source": [
    "def fold_change(C,T, limit = 1.5):\n",
    "    if T > C:\n",
    "        fc_stat =  T / C\n",
    "    else:\n",
    "        fc_stat = - C / T\n",
    "    return np.array([np.abs(fc_stat) > limit])"
   ]
  },
  {
   "cell_type": "code",
   "execution_count": 92,
   "metadata": {
    "scrolled": true
   },
   "outputs": [
    {
     "name": "stdout",
     "output_type": "stream",
     "text": [
      "Normal vs neoplasia:  2\n",
      "Neoplasia vs cancer:  77\n"
     ]
    }
   ],
   "source": [
    "# normal vs neoplasia\n",
    "gen_normal_p_corr_bonf_005 = gen_normal.iloc[:,2:].iloc[:,np.where(p_corr_bonf[1][0] < 0.05)[0]]\n",
    "gen_neoplasia1_p_corr_bonf_005 = gen_neoplasia.iloc[:,2:].iloc[:,np.where(p_corr_bonf[1][0] < 0.05)[0]]\n",
    "\n",
    "fc_count_normal_neoplasia = 0\n",
    "\n",
    "for norm, neopl in zip(gen_normal_p_corr_bonf_005.mean(), gen_neoplasia1_p_corr_bonf_005.mean()):\n",
    "    fc = fold_change(norm, neopl)\n",
    "    if fc:\n",
    "        fc_count_normal_neoplasia += 1\n",
    "        \n",
    "# neoplasia vs cancer\n",
    "gen_cancer_p_corr_bonf_005 = gen_cancer.iloc[:,2:].iloc[:,np.where(p_corr_bonf[1][1] < 0.05)[0]]\n",
    "gen_neoplasia2_p_corr_bonf_005 = gen_neoplasia.iloc[:,2:].iloc[:,np.where(p_corr_bonf[1][1] < 0.05)[0]]\n",
    "\n",
    "fc_count_neoplasia_cancer = 0\n",
    "for neopl, cancer in zip(gen_neoplasia2_p_corr_bonf_005.mean(), gen_cancer_p_corr_bonf_005.mean()):\n",
    "    fc = fold_change(neopl, cancer)\n",
    "    if fc:\n",
    "        fc_count_neoplasia_cancer += 1\n",
    "\n",
    "print('Normal vs neoplasia: ',fc_count_normal_neoplasia)\n",
    "print('Neoplasia vs cancer: ',fc_count_neoplasia_cancer)"
   ]
  },
  {
   "cell_type": "code",
   "execution_count": 88,
   "metadata": {
    "scrolled": true
   },
   "outputs": [],
   "source": [
    "with open('answer 3.txt','w') as f:\n",
    "    f.write(str(fc_count_normal_neoplasia))\n",
    "with open('answer 4.txt','w') as f:\n",
    "    f.write(str(fc_count_neoplasia_cancer))"
   ]
  },
  {
   "cell_type": "markdown",
   "metadata": {},
   "source": [
    "Часть 3: поправка методом Бенджамини-Хохберга\n",
    "\n",
    "Данная часть задания аналогична второй части за исключением того, что нужно будет использовать метод Бенджамини-Хохберга.\n",
    "\n",
    "Обратите внимание, что методы коррекции, которые контролируют FDR, допускает больше ошибок первого рода и имеют большую мощность, чем методы, контролирующие FWER. Большая мощность означает, что эти методы будут совершать меньше ошибок второго рода (то есть будут лучше улавливать отклонения от H_0, когда они есть, и будут чаще отклонять H_0, когда отличий нет).\n",
    "\n",
    "В качестве ответа к этому заданию требуется ввести количество значимых отличий в каждой группе после того, как произведена коррекция Бенджамини-Хохберга, причем так же, как и во второй части, считать только такие отличия, у которых abs(fold change) > 1.5."
   ]
  },
  {
   "cell_type": "code",
   "execution_count": 93,
   "metadata": {},
   "outputs": [
    {
     "data": {
      "text/plain": [
       "array([1.        , 0.07139516, 1.        , ..., 1.        , 1.        ,\n",
       "       1.        ])"
      ]
     },
     "execution_count": 93,
     "metadata": {},
     "output_type": "execute_result"
    }
   ],
   "source": [
    "# Поправка Бенджамини-Хохберга\n",
    "tt_normal_neoplasia_p_corr = multipletests(tt_normal_neoplasia_p, method='fdr_bh')\n",
    "tt_neoplasia_cancer_p_corr = multipletests(tt_neoplasia_cancer_p, method='fdr_bh')\n",
    "# Поправка Бонферрони\n",
    "p_corr = np.array([tt_normal_neoplasia_p_corr[1],tt_neoplasia_cancer_p_corr[1]])\n",
    "p_corr_bonf = multipletests(p_corr, is_sorted=True, method='bonferroni')\n",
    "p_corr_bonf[1][0]"
   ]
  },
  {
   "cell_type": "code",
   "execution_count": 94,
   "metadata": {},
   "outputs": [
    {
     "name": "stdout",
     "output_type": "stream",
     "text": [
      "Normal vs neoplasia:  4\n",
      "Neoplasia vs cancer:  832\n"
     ]
    }
   ],
   "source": [
    "p_corr_bonf_normal_neoplasia_005 = p_corr_bonf[1][0][np.where(p_corr_bonf[1][0] < 0.05)].shape[0]\n",
    "p_corr_bonf_neoplasia_cancer_005 = p_corr_bonf[1][1][np.where(p_corr_bonf[1][1] < 0.05)].shape[0]\n",
    "print('Normal vs neoplasia: ',p_corr_bonf_normal_neoplasia_005)\n",
    "print('Neoplasia vs cancer: ',p_corr_bonf_neoplasia_cancer_005)"
   ]
  },
  {
   "cell_type": "code",
   "execution_count": 95,
   "metadata": {},
   "outputs": [
    {
     "name": "stdout",
     "output_type": "stream",
     "text": [
      "Normal vs neoplasia:  4\n",
      "Neoplasia vs cancer:  524\n"
     ]
    }
   ],
   "source": [
    "# normal vs neoplasia\n",
    "gen_normal_p_corr_bonf_005 = gen_normal.iloc[:,2:].iloc[:,np.where(p_corr_bonf[1][0] < 0.05)[0]]\n",
    "gen_neoplasia1_p_corr_bonf_005 = gen_neoplasia.iloc[:,2:].iloc[:,np.where(p_corr_bonf[1][0] < 0.05)[0]]\n",
    "\n",
    "fc_count_normal_neoplasia = 0\n",
    "\n",
    "for norm, neopl in zip(gen_normal_p_corr_bonf_005.mean(), gen_neoplasia1_p_corr_bonf_005.mean()):\n",
    "    fc = fold_change(norm, neopl)\n",
    "    if fc:\n",
    "        fc_count_normal_neoplasia += 1\n",
    "        \n",
    "# neoplasia vs cancer\n",
    "gen_cancer_p_corr_bonf_005 = gen_cancer.iloc[:,2:].iloc[:,np.where(p_corr_bonf[1][1] < 0.05)[0]]\n",
    "gen_neoplasia2_p_corr_bonf_005 = gen_neoplasia.iloc[:,2:].iloc[:,np.where(p_corr_bonf[1][1] < 0.05)[0]]\n",
    "\n",
    "fc_count_neoplasia_cancer = 0\n",
    "for neopl, cancer in zip(gen_neoplasia2_p_corr_bonf_005.mean(), gen_cancer_p_corr_bonf_005.mean()):\n",
    "    fc = fold_change(neopl, cancer)\n",
    "    if fc:\n",
    "        fc_count_neoplasia_cancer += 1\n",
    "\n",
    "print('Normal vs neoplasia: ',fc_count_normal_neoplasia)\n",
    "print('Neoplasia vs cancer: ',fc_count_neoplasia_cancer)"
   ]
  },
  {
   "cell_type": "code",
   "execution_count": 96,
   "metadata": {},
   "outputs": [],
   "source": [
    "with open('answer 5.txt','w') as f:\n",
    "    f.write(str(fc_count_normal_neoplasia))\n",
    "with open('answer 5.txt','w') as f:\n",
    "    f.write(str(fc_count_neoplasia_cancer))"
   ]
  }
 ],
 "metadata": {
  "kernelspec": {
   "display_name": "Python 3",
   "language": "python",
   "name": "python3"
  },
  "language_info": {
   "codemirror_mode": {
    "name": "ipython",
    "version": 3
   },
   "file_extension": ".py",
   "mimetype": "text/x-python",
   "name": "python",
   "nbconvert_exporter": "python",
   "pygments_lexer": "ipython3",
   "version": "3.7.6"
  }
 },
 "nbformat": 4,
 "nbformat_minor": 4
}
