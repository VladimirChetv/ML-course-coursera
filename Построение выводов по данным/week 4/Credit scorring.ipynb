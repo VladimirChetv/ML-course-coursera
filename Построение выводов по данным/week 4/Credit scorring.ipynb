{
 "cells": [
  {
   "cell_type": "code",
   "execution_count": 79,
   "metadata": {},
   "outputs": [],
   "source": [
    "import pandas as pd\n",
    "import numpy as np\n",
    "from scipy import stats\n",
    "import scipy\n",
    "\n",
    "\n",
    "from statsmodels.stats import weightstats as wsm\n",
    "from statsmodels.stats.proportion import proportion_confint\n",
    "\n",
    "%matplotlib inline\n",
    "import matplotlib.pyplot as plt\n",
    "import seaborn as sns\n"
   ]
  },
  {
   "cell_type": "markdown",
   "metadata": {},
   "source": [
    "Для выполнения этого задания вам понадобятся данные о кредитных историях клиентов одного из банков. Поля в предоставляемых данных имеют следующий смысл:\n",
    "\n",
    "LIMIT_BAL: размер кредитного лимита (в том числе и на семью клиента)\n",
    "\n",
    "SEX: пол клиента (1 = мужской, 2 = женский )\n",
    "\n",
    "EDUCATION: образование (0 = доктор, 1 = магистр; 2 = бакалавр; 3 = выпускник школы; 4 = начальное образование; 5= прочее; 6 = нет данных ).\n",
    "\n",
    "MARRIAGE: (0 = отказываюсь отвечать; 1 = замужем/женат; 2 = холост; 3 = нет данных).\n",
    "\n",
    "AGE: возраст в годах\n",
    "\n",
    "PAY_0 - PAY_6 : История прошлых платежей по кредиту. PAY_6 - платеж в апреле, ... Pay_0 - платеж в сентябре. Платеж = (0 = исправный платеж, 1=задержка в один месяц, 2=задержка в 2 месяца ...)\n",
    "\n",
    "BILL_AMT1 - BILL_AMT6: задолженность, BILL_AMT6 - на апрель, BILL_AMT1 - на сентябрь\n",
    "\n",
    "PAY_AMT1 - PAY_AMT6: сумма уплаченная в PAY_AMT6 - апреле, ..., PAY_AMT1 - сентябре\n",
    "\n",
    "default - индикатор невозврата денежных средств"
   ]
  },
  {
   "cell_type": "markdown",
   "metadata": {},
   "source": [
    "Задание\n",
    "\n",
    "1) Размер кредитного лимита (LIMIT_BAL). В двух группах, тех людей, кто вернул кредит (default = 0) и тех, кто его не вернул (default = 1) проверьте гипотезы: \n",
    "\n",
    "        a) о равенстве медианных значений кредитного лимита с помощью подходящей интервальной оценки \n",
    "        \n",
    "        b) о равенстве распределений с помощью одного из подходящих непараметрических критериев проверки равенства средних. Значимы ли полученные результаты с практической точки зрения?\n",
    "\n",
    "2) Пол (SEX): Проверьте гипотезу о том, что гендерный состав группы людей вернувших и не вернувших кредит отличается. Хорошо, если вы предоставите несколько различных решений этой задачи (с помощью доверительного интервала и подходящего статистического критерия)\n",
    "\n",
    "3) Образование (EDUCATION): Проверьте гипотезу о том, что образование не влияет на то, вернет ли человек долг. Предложите способ наглядного представления разницы в ожидаемых и наблюдаемых значениях количества человек вернувших и не вернувших долг. Например, составьте таблицу сопряженности \"образование\" на \"возврат долга\", где значением ячейки была бы разность между наблюдаемым и ожидаемым количеством человек. Как бы вы предложили модифицировать таблицу так, чтобы привести значения ячеек к одному масштабу не потеряв в интерпретируемости? Наличие какого образования является наилучшим индикатором того, что человек отдаст долг? наоборт, не отдаст долг?\n",
    "\n",
    "4) Семейное положение (MARRIAGE): Проверьте, как связан семейный статус с индикатором дефолта: нужно предложить меру, по которой можно измерить возможную связь этих переменных и посчитать ее значение.\n",
    "\n",
    "5) Возраст (AGE): Относительно двух групп людей вернувших и не вернувших кредит проверьте следующие гипотезы: a) о равенстве медианных значений возрастов людей b) о равенстве распределений с помощью одного из подходящих непараметрических критериев проверки равенства средних. Значимы ли полученные результаты с практической точки зрения?\n"
   ]
  },
  {
   "cell_type": "markdown",
   "metadata": {},
   "source": [
    "Review criteria\n",
    "\n",
    "Выполнение каждого пункта задания должно начинаться с графика с данными, которые вы собираетесь анализировать. Еще лучше, если вы разложите графики анализируемого фактора по переменной (default), на которую хотите изучить влияние этого фактора, и проинтерпретируете отличия в полученных распределениях.\n",
    "При использовании статистических критериев необходимо убедиться в том, что условия их применимости выполняются. Например, если вы видите, что данные бинарные, то не нужно применять критерий Стьюдента.\n",
    "При каждом использовании любого критерия необходимо указать, какая проверяется гипотеза, против какой альтернативы, чему равен достигаемый уровень значимости, принимается или отвергается нулевая гипотеза на уровне значимости 0.05. Если задача позволяет, нужно оценить размер эффекта и предположить, имеет ли этот результат практическую значимость.\n",
    "Выполненное задание необходимо представить в ipython-ноутбука."
   ]
  },
  {
   "cell_type": "code",
   "execution_count": 4,
   "metadata": {},
   "outputs": [
    {
     "data": {
      "text/html": [
       "<div>\n",
       "<style scoped>\n",
       "    .dataframe tbody tr th:only-of-type {\n",
       "        vertical-align: middle;\n",
       "    }\n",
       "\n",
       "    .dataframe tbody tr th {\n",
       "        vertical-align: top;\n",
       "    }\n",
       "\n",
       "    .dataframe thead th {\n",
       "        text-align: right;\n",
       "    }\n",
       "</style>\n",
       "<table border=\"1\" class=\"dataframe\">\n",
       "  <thead>\n",
       "    <tr style=\"text-align: right;\">\n",
       "      <th></th>\n",
       "      <th>ID</th>\n",
       "      <th>LIMIT_BAL</th>\n",
       "      <th>SEX</th>\n",
       "      <th>EDUCATION</th>\n",
       "      <th>MARRIAGE</th>\n",
       "      <th>AGE</th>\n",
       "      <th>PAY_0</th>\n",
       "      <th>PAY_2</th>\n",
       "      <th>PAY_3</th>\n",
       "      <th>PAY_4</th>\n",
       "      <th>...</th>\n",
       "      <th>BILL_AMT4</th>\n",
       "      <th>BILL_AMT5</th>\n",
       "      <th>BILL_AMT6</th>\n",
       "      <th>PAY_AMT1</th>\n",
       "      <th>PAY_AMT2</th>\n",
       "      <th>PAY_AMT3</th>\n",
       "      <th>PAY_AMT4</th>\n",
       "      <th>PAY_AMT5</th>\n",
       "      <th>PAY_AMT6</th>\n",
       "      <th>default</th>\n",
       "    </tr>\n",
       "  </thead>\n",
       "  <tbody>\n",
       "    <tr>\n",
       "      <th>0</th>\n",
       "      <td>1</td>\n",
       "      <td>20000</td>\n",
       "      <td>2</td>\n",
       "      <td>2</td>\n",
       "      <td>1</td>\n",
       "      <td>24</td>\n",
       "      <td>2</td>\n",
       "      <td>2</td>\n",
       "      <td>0</td>\n",
       "      <td>0</td>\n",
       "      <td>...</td>\n",
       "      <td>0</td>\n",
       "      <td>0</td>\n",
       "      <td>0</td>\n",
       "      <td>0</td>\n",
       "      <td>689</td>\n",
       "      <td>0</td>\n",
       "      <td>0</td>\n",
       "      <td>0</td>\n",
       "      <td>0</td>\n",
       "      <td>1</td>\n",
       "    </tr>\n",
       "    <tr>\n",
       "      <th>1</th>\n",
       "      <td>2</td>\n",
       "      <td>120000</td>\n",
       "      <td>2</td>\n",
       "      <td>2</td>\n",
       "      <td>2</td>\n",
       "      <td>26</td>\n",
       "      <td>0</td>\n",
       "      <td>2</td>\n",
       "      <td>0</td>\n",
       "      <td>0</td>\n",
       "      <td>...</td>\n",
       "      <td>3272</td>\n",
       "      <td>3455</td>\n",
       "      <td>3261</td>\n",
       "      <td>0</td>\n",
       "      <td>1000</td>\n",
       "      <td>1000</td>\n",
       "      <td>1000</td>\n",
       "      <td>0</td>\n",
       "      <td>2000</td>\n",
       "      <td>1</td>\n",
       "    </tr>\n",
       "    <tr>\n",
       "      <th>2</th>\n",
       "      <td>3</td>\n",
       "      <td>90000</td>\n",
       "      <td>2</td>\n",
       "      <td>2</td>\n",
       "      <td>2</td>\n",
       "      <td>34</td>\n",
       "      <td>0</td>\n",
       "      <td>0</td>\n",
       "      <td>0</td>\n",
       "      <td>0</td>\n",
       "      <td>...</td>\n",
       "      <td>14331</td>\n",
       "      <td>14948</td>\n",
       "      <td>15549</td>\n",
       "      <td>1518</td>\n",
       "      <td>1500</td>\n",
       "      <td>1000</td>\n",
       "      <td>1000</td>\n",
       "      <td>1000</td>\n",
       "      <td>5000</td>\n",
       "      <td>0</td>\n",
       "    </tr>\n",
       "    <tr>\n",
       "      <th>3</th>\n",
       "      <td>4</td>\n",
       "      <td>50000</td>\n",
       "      <td>2</td>\n",
       "      <td>2</td>\n",
       "      <td>1</td>\n",
       "      <td>37</td>\n",
       "      <td>0</td>\n",
       "      <td>0</td>\n",
       "      <td>0</td>\n",
       "      <td>0</td>\n",
       "      <td>...</td>\n",
       "      <td>28314</td>\n",
       "      <td>28959</td>\n",
       "      <td>29547</td>\n",
       "      <td>2000</td>\n",
       "      <td>2019</td>\n",
       "      <td>1200</td>\n",
       "      <td>1100</td>\n",
       "      <td>1069</td>\n",
       "      <td>1000</td>\n",
       "      <td>0</td>\n",
       "    </tr>\n",
       "    <tr>\n",
       "      <th>4</th>\n",
       "      <td>5</td>\n",
       "      <td>50000</td>\n",
       "      <td>1</td>\n",
       "      <td>2</td>\n",
       "      <td>1</td>\n",
       "      <td>57</td>\n",
       "      <td>0</td>\n",
       "      <td>0</td>\n",
       "      <td>0</td>\n",
       "      <td>0</td>\n",
       "      <td>...</td>\n",
       "      <td>20940</td>\n",
       "      <td>19146</td>\n",
       "      <td>19131</td>\n",
       "      <td>2000</td>\n",
       "      <td>36681</td>\n",
       "      <td>10000</td>\n",
       "      <td>9000</td>\n",
       "      <td>689</td>\n",
       "      <td>679</td>\n",
       "      <td>0</td>\n",
       "    </tr>\n",
       "  </tbody>\n",
       "</table>\n",
       "<p>5 rows × 25 columns</p>\n",
       "</div>"
      ],
      "text/plain": [
       "   ID  LIMIT_BAL  SEX  EDUCATION  MARRIAGE  AGE  PAY_0  PAY_2  PAY_3  PAY_4  \\\n",
       "0   1      20000    2          2         1   24      2      2      0      0   \n",
       "1   2     120000    2          2         2   26      0      2      0      0   \n",
       "2   3      90000    2          2         2   34      0      0      0      0   \n",
       "3   4      50000    2          2         1   37      0      0      0      0   \n",
       "4   5      50000    1          2         1   57      0      0      0      0   \n",
       "\n",
       "   ...  BILL_AMT4  BILL_AMT5  BILL_AMT6  PAY_AMT1  PAY_AMT2  PAY_AMT3  \\\n",
       "0  ...          0          0          0         0       689         0   \n",
       "1  ...       3272       3455       3261         0      1000      1000   \n",
       "2  ...      14331      14948      15549      1518      1500      1000   \n",
       "3  ...      28314      28959      29547      2000      2019      1200   \n",
       "4  ...      20940      19146      19131      2000     36681     10000   \n",
       "\n",
       "   PAY_AMT4  PAY_AMT5  PAY_AMT6  default  \n",
       "0         0         0         0        1  \n",
       "1      1000         0      2000        1  \n",
       "2      1000      1000      5000        0  \n",
       "3      1100      1069      1000        0  \n",
       "4      9000       689       679        0  \n",
       "\n",
       "[5 rows x 25 columns]"
      ]
     },
     "execution_count": 4,
     "metadata": {},
     "output_type": "execute_result"
    }
   ],
   "source": [
    "# загрузка данных\n",
    "credit = pd.read_csv('credit_card_default_analysis.csv', sep=',')\n",
    "credit.head()"
   ]
  },
  {
   "cell_type": "code",
   "execution_count": 5,
   "metadata": {},
   "outputs": [
    {
     "name": "stdout",
     "output_type": "stream",
     "text": [
      "<class 'pandas.core.frame.DataFrame'>\n",
      "RangeIndex: 30000 entries, 0 to 29999\n",
      "Data columns (total 25 columns):\n",
      " #   Column     Non-Null Count  Dtype\n",
      "---  ------     --------------  -----\n",
      " 0   ID         30000 non-null  int64\n",
      " 1   LIMIT_BAL  30000 non-null  int64\n",
      " 2   SEX        30000 non-null  int64\n",
      " 3   EDUCATION  30000 non-null  int64\n",
      " 4   MARRIAGE   30000 non-null  int64\n",
      " 5   AGE        30000 non-null  int64\n",
      " 6   PAY_0      30000 non-null  int64\n",
      " 7   PAY_2      30000 non-null  int64\n",
      " 8   PAY_3      30000 non-null  int64\n",
      " 9   PAY_4      30000 non-null  int64\n",
      " 10  PAY_5      30000 non-null  int64\n",
      " 11  PAY_6      30000 non-null  int64\n",
      " 12  BILL_AMT1  30000 non-null  int64\n",
      " 13  BILL_AMT2  30000 non-null  int64\n",
      " 14  BILL_AMT3  30000 non-null  int64\n",
      " 15  BILL_AMT4  30000 non-null  int64\n",
      " 16  BILL_AMT5  30000 non-null  int64\n",
      " 17  BILL_AMT6  30000 non-null  int64\n",
      " 18  PAY_AMT1   30000 non-null  int64\n",
      " 19  PAY_AMT2   30000 non-null  int64\n",
      " 20  PAY_AMT3   30000 non-null  int64\n",
      " 21  PAY_AMT4   30000 non-null  int64\n",
      " 22  PAY_AMT5   30000 non-null  int64\n",
      " 23  PAY_AMT6   30000 non-null  int64\n",
      " 24  default    30000 non-null  int64\n",
      "dtypes: int64(25)\n",
      "memory usage: 5.7 MB\n"
     ]
    }
   ],
   "source": [
    "credit.info()"
   ]
  },
  {
   "cell_type": "markdown",
   "metadata": {},
   "source": [
    "## Размер кредитного лимита (LIMIT_BAL)"
   ]
  },
  {
   "cell_type": "code",
   "execution_count": 65,
   "metadata": {},
   "outputs": [
    {
     "data": {
      "image/png": "[encoded data removed]",
      "text/plain": [
       "<Figure size 1080x504 with 2 Axes>"
      ]
     },
     "metadata": {
      "needs_background": "light"
     },
     "output_type": "display_data"
    }
   ],
   "source": [
    "plt.figure(1,figsize=(15,7))\n",
    "plt.subplot(121)\n",
    "plt.hist(credit['LIMIT_BAL'])\n",
    "plt.title('Размер кредитного лимита')\n",
    "plt.xlabel('Размер кредитного лимита, руб')\n",
    "plt.ylabel('Количество кредитов, шт')\n",
    "plt.grid()\n",
    "\n",
    "plt.subplot(122)\n",
    "plt.hist(credit.LIMIT_BAL.loc[credit['default'] == 0], label = 'Default 0')\n",
    "plt.hist(credit.LIMIT_BAL.loc[credit['default'] == 1], label = 'Default 1')\n",
    "plt.title('Размер кредитного лимита для различных default')\n",
    "plt.xlabel('Размер кредитного лимита, руб')\n",
    "plt.ylabel('Количество кредитов, шт')\n",
    "plt.legend()\n",
    "plt.grid()\n",
    "plt.show()"
   ]
  },
  {
   "cell_type": "markdown",
   "metadata": {},
   "source": [
    "Доля небольших невозвратных кредитов заметно выше. Большие суммы люди стремятся возвращать."
   ]
  },
  {
   "cell_type": "markdown",
   "metadata": {},
   "source": [
    "### Проверим гипотезу о равенстве медианных значений кредитного лимита с помощью подходящей интервальной оценки.\n",
    "\n",
    "H0: медианные значения совпадаются\n",
    "\n",
    "H1: медианные значения не совпадают"
   ]
  },
  {
   "cell_type": "code",
   "execution_count": 45,
   "metadata": {},
   "outputs": [
    {
     "name": "stdout",
     "output_type": "stream",
     "text": [
      "Медианное значение Limit_Bal|default=0  150000.0\n",
      "Медианное значение Limit_Bal|default=1  90000.0\n"
     ]
    }
   ],
   "source": [
    "limit_balance_0 = credit.LIMIT_BAL.loc[credit['default'] == 0]\n",
    "limit_balance_1 = credit.LIMIT_BAL.loc[credit['default'] == 1]\n",
    "\n",
    "print('Медианное значение Limit_Bal|default=0 ', limit_balance_0.median())\n",
    "print('Медианное значение Limit_Bal|default=1 ', limit_balance_1.median())"
   ]
  },
  {
   "cell_type": "markdown",
   "metadata": {},
   "source": [
    "Построим доверительные интервалы на основе Bootstrap"
   ]
  },
  {
   "cell_type": "code",
   "execution_count": 37,
   "metadata": {},
   "outputs": [],
   "source": [
    "def get_bootstrap_samples(data, n_samples):\n",
    "    indices = np.random.randint(0, len(data), (n_samples, len(data)))\n",
    "    samples = data[indices]\n",
    "    return samples"
   ]
  },
  {
   "cell_type": "code",
   "execution_count": 38,
   "metadata": {},
   "outputs": [],
   "source": [
    "def stat_intervals(stat, alpha):\n",
    "    boundaries = np.percentile(stat, [100 * alpha / 2., 100 * (1 - alpha / 2.)])\n",
    "    return boundaries"
   ]
  },
  {
   "cell_type": "code",
   "execution_count": 60,
   "metadata": {
    "scrolled": true
   },
   "outputs": [
    {
     "name": "stdout",
     "output_type": "stream",
     "text": [
      "95% доверительный интервал для Limit_Bal|default=0: [150000. 150000.]\n",
      "95% доверительный интервал для Limit_Bal|default=1: [80000. 90000.]\n",
      "95% доверительный интервал для разности медиан: [60000. 70000.]\n"
     ]
    }
   ],
   "source": [
    "np.random.seed(0)\n",
    "\n",
    "limit_balance_0_median_scores = list(map(np.median, get_bootstrap_samples(limit_balance_0.values, 1000)))\n",
    "limit_balance_1_median_scores = list(map(np.median, get_bootstrap_samples(limit_balance_1.values, 1000)))\n",
    "\n",
    "delta_scores = list(map(lambda x: x[0] - x[1], zip(limit_balance_0_median_scores, limit_balance_1_median_scores)))\n",
    "\n",
    "print(\"95% доверительный интервал для Limit_Bal|default=0:\",  stat_intervals(limit_balance_0_median_scores, 0.05))\n",
    "print(\"95% доверительный интервал для Limit_Bal|default=1:\",  stat_intervals(limit_balance_1_median_scores, 0.05))\n",
    "print(\"95% доверительный интервал для разности медиан:\",  stat_intervals(delta_scores, 0.05))\n"
   ]
  },
  {
   "cell_type": "markdown",
   "metadata": {},
   "source": [
    "Вывод: интервалы для медиан лимитов отличаются (разница не содержат 0). Поэтому гипотезу о равенстве медиан отвергаем."
   ]
  },
  {
   "cell_type": "markdown",
   "metadata": {},
   "source": [
    "### Проверим гипотезу о равенстве распределений с помощью одного из подходящих непараметрических критериев проверки равенства средних.\n",
    "\n",
    "Для проверки гипотезы подойдёт перестановочный критерий для независимых выборок.\n",
    "\n",
    "H0: распределения выборок полностью равны\n",
    "\n",
    "H1: распределения выборок отличаются на величину сдвига"
   ]
  },
  {
   "cell_type": "code",
   "execution_count": 51,
   "metadata": {},
   "outputs": [],
   "source": [
    "def permutation_t_stat_ind(sample1, sample2):\n",
    "    return np.mean(sample1) - np.mean(sample2)"
   ]
  },
  {
   "cell_type": "code",
   "execution_count": 52,
   "metadata": {},
   "outputs": [],
   "source": [
    "def get_random_combinations(n1, n2, max_combinations):\n",
    "    index = list(range(n1 + n2))\n",
    "    indices = set([tuple(index)])\n",
    "    for i in range(max_combinations - 1):\n",
    "        np.random.shuffle(index)\n",
    "        indices.add(tuple(index))\n",
    "    return [(index[:n1], index[n1:]) for index in indices]"
   ]
  },
  {
   "cell_type": "code",
   "execution_count": 53,
   "metadata": {},
   "outputs": [],
   "source": [
    "def permutation_zero_dist_ind(sample1, sample2, max_combinations = None):\n",
    "    joined_sample = np.hstack((sample1, sample2))\n",
    "    n1 = len(sample1)\n",
    "    n = len(joined_sample)\n",
    "    \n",
    "    if max_combinations:\n",
    "        indices = get_random_combinations(n1, len(sample2), max_combinations)\n",
    "    else:\n",
    "        indices = [(list(index), list(filter(lambda i: i not in index, range(n)))) \\\n",
    "                    for index in itertools.combinations(range(n), n1)]\n",
    "    \n",
    "    distr = [joined_sample[list(i[0])].mean() - joined_sample[list(i[1])].mean() \\\n",
    "             for i in indices]\n",
    "    return distr"
   ]
  },
  {
   "cell_type": "code",
   "execution_count": 54,
   "metadata": {},
   "outputs": [],
   "source": [
    "def permutation_test(sample, mean, max_permutations = None, alternative = 'two-sided'):\n",
    "    if alternative not in ('two-sided', 'less', 'greater'):\n",
    "        raise ValueError(\"alternative not recognized\\n\"\n",
    "                         \"should be 'two-sided', 'less' or 'greater'\")\n",
    "    \n",
    "    t_stat = permutation_t_stat_ind(sample, mean)\n",
    "    \n",
    "    zero_distr = permutation_zero_dist_ind(sample, mean, max_permutations)\n",
    "    \n",
    "    if alternative == 'two-sided':\n",
    "        return sum([1. if abs(x) >= abs(t_stat) else 0. for x in zero_distr]) / len(zero_distr)\n",
    "    \n",
    "    if alternative == 'less':\n",
    "        return sum([1. if x <= t_stat else 0. for x in zero_distr]) / len(zero_distr)\n",
    "\n",
    "    if alternative == 'greater':\n",
    "        return sum([1. if x >= t_stat else 0. for x in zero_distr]) / len(zero_distr)"
   ]
  },
  {
   "cell_type": "code",
   "execution_count": 57,
   "metadata": {},
   "outputs": [
    {
     "name": "stdout",
     "output_type": "stream",
     "text": [
      "p-value: 0.000100\n"
     ]
    }
   ],
   "source": [
    "print(\"p-value: %f\" % permutation_test(limit_balance_0, limit_balance_1, max_permutations = 10000))"
   ]
  },
  {
   "cell_type": "markdown",
   "metadata": {},
   "source": [
    "Вывод: полученное значение p-value < 0.05, что позволяет отвергнуть гипотизу о равенстве распределений.\n",
    "\n",
    "Признак LIMIT_BAL является значимым."
   ]
  },
  {
   "cell_type": "markdown",
   "metadata": {},
   "source": [
    "## Пол (SEX)"
   ]
  },
  {
   "cell_type": "markdown",
   "metadata": {},
   "source": [
    "Проверим гипотезу о том, что гендерный состав группы людей вернувших и не вернувших кредит отличается."
   ]
  },
  {
   "cell_type": "code",
   "execution_count": 73,
   "metadata": {},
   "outputs": [
    {
     "data": {
      "image/png": "[encoded data removed]",
      "text/plain": [
       "<Figure size 1080x504 with 2 Axes>"
      ]
     },
     "metadata": {
      "needs_background": "light"
     },
     "output_type": "display_data"
    }
   ],
   "source": [
    "plt.figure(1,figsize=(15,7))\n",
    "plt.subplot(121)\n",
    "plt.hist(credit.SEX.loc[credit['SEX'] == 1], label = 'Мужчины')\n",
    "plt.hist(credit.SEX.loc[credit['SEX'] == 2], label = 'Женщины')\n",
    "plt.title('Распределение кредитов в зависимости от пола')\n",
    "plt.xlabel('Пол')\n",
    "plt.ylabel('Количество кредитов, шт')\n",
    "plt.legend()\n",
    "plt.grid()\n",
    "\n",
    "plt.subplot(122)\n",
    "plt.hist(credit.SEX.loc[credit['default'] == 0], label = 'Default 0')\n",
    "plt.hist(credit.SEX.loc[credit['default'] == 1], label = 'Default 1')\n",
    "plt.title('Распределение кредитов в зависимости от пола')\n",
    "plt.xlabel('Пол')\n",
    "plt.ylabel('Количество кредитов, шт')\n",
    "plt.legend()\n",
    "plt.grid()\n",
    "plt.show()"
   ]
  },
  {
   "cell_type": "markdown",
   "metadata": {},
   "source": [
    "Проверка гипотезы сводится к проверке следующих утверждений:\n",
    "\n",
    "$H_0\\colon p_1 = p_2$ - доли одинаковы\n",
    "\n",
    "$H_1\\colon p_1 \\neq\\ p_2$ - доли разные\n",
    "\n",
    "Для этого воспользуемся Z-критерием для разности долей в независимых выборках."
   ]
  },
  {
   "cell_type": "code",
   "execution_count": 104,
   "metadata": {},
   "outputs": [],
   "source": [
    "men = credit[credit.SEX == 1].default\n",
    "women = credit[credit.SEX == 2].default"
   ]
  },
  {
   "cell_type": "code",
   "execution_count": 105,
   "metadata": {},
   "outputs": [],
   "source": [
    "def proportions_diff_confint_ind(sample1, sample2, alpha = 0.05):    \n",
    "    z = stats.norm.ppf(1 - alpha / 2.)\n",
    "    \n",
    "    p1 = float(sum(sample1)) / len(sample1)\n",
    "    p2 = float(sum(sample2)) / len(sample2)\n",
    "    \n",
    "    left_boundary = (p1 - p2) - z * np.sqrt(p1 * (1 - p1)/ len(sample1) + p2 * (1 - p2)/ len(sample2))\n",
    "    right_boundary = (p1 - p2) + z * np.sqrt(p1 * (1 - p1)/ len(sample1) + p2 * (1 - p2)/ len(sample2))\n",
    "    \n",
    "    return (left_boundary, right_boundary)"
   ]
  },
  {
   "cell_type": "code",
   "execution_count": 106,
   "metadata": {},
   "outputs": [],
   "source": [
    "def proportions_diff_z_stat_ind(sample1, sample2):\n",
    "    n1 = len(sample1)\n",
    "    n2 = len(sample2)\n",
    "    \n",
    "    p1 = float(sum(sample1)) / n1\n",
    "    p2 = float(sum(sample2)) / n2 \n",
    "    P = float(p1*n1 + p2*n2) / (n1 + n2)\n",
    "    \n",
    "    return (p1 - p2) / np.sqrt(P * (1 - P) * (1. / n1 + 1. / n2))"
   ]
  },
  {
   "cell_type": "code",
   "execution_count": 107,
   "metadata": {},
   "outputs": [],
   "source": [
    "def proportions_diff_z_test(z_stat, alternative = 'two-sided'):\n",
    "    if alternative not in ('two-sided', 'less', 'greater'):\n",
    "        raise ValueError(\"alternative not recognized\\n\"\n",
    "                         \"should be 'two-sided', 'less' or 'greater'\")\n",
    "    \n",
    "    if alternative == 'two-sided':\n",
    "        return 2 * (1 - scipy.stats.norm.cdf(np.abs(z_stat)))\n",
    "    \n",
    "    if alternative == 'less':\n",
    "        return scipy.stats.norm.cdf(z_stat)\n",
    "\n",
    "    if alternative == 'greater':\n",
    "        return 1 - scipy.stats.norm.cdf(z_stat)"
   ]
  },
  {
   "cell_type": "code",
   "execution_count": 110,
   "metadata": {},
   "outputs": [
    {
     "name": "stdout",
     "output_type": "stream",
     "text": [
      "95% доверительный интервал разницы долей (default=0/default=1) между мужчинами и женщинами: [0.024207, 0.043612]\n",
      "p-value: 4.472866521609831e-12\n"
     ]
    }
   ],
   "source": [
    "print(\"95%% доверительный интервал разницы долей (default=0/default=1) между мужчинами и женщинами: [%f, %f]\" %\\\n",
    "      proportions_diff_confint_ind(men, women))\n",
    "print(\"p-value:\", proportions_diff_z_test(proportions_diff_z_stat_ind(men, women)))"
   ]
  },
  {
   "cell_type": "markdown",
   "metadata": {},
   "source": [
    "Вывод: Рассмотренные доли между мужчинами и женщинами статистически различаются (p-value < 0.05). В тоже время эта разница с практической т.з. является мизерной (от 2,4% до 4,3%). Поэтому признак SEX при построение модели можно считать незначимым. "
   ]
  },
  {
   "cell_type": "markdown",
   "metadata": {},
   "source": [
    "## Образование (EDUCATION)"
   ]
  },
  {
   "cell_type": "markdown",
   "metadata": {},
   "source": [
    "Проверим гипотезу о том, что образование не влияет на то, вернет ли человек долг."
   ]
  },
  {
   "cell_type": "code",
   "execution_count": 116,
   "metadata": {},
   "outputs": [
    {
     "data": {
      "text/plain": [
       "Text(0.5, 1, 'Распределение кредитов в зависимости от образования')"
      ]
     },
     "execution_count": 116,
     "metadata": {},
     "output_type": "execute_result"
    },
    {
     "data": {
      "image/png": "[encoded data removed]",
      "text/plain": [
       "<Figure size 360x360 with 1 Axes>"
      ]
     },
     "metadata": {
      "needs_background": "light"
     },
     "output_type": "display_data"
    }
   ],
   "source": [
    "sns.catplot(x= 'EDUCATION', y='default', data=credit, kind='bar')\n",
    "plt.xlabel('Тип образования')\n",
    "plt.ylabel('Доля невозвратных кредитов')\n",
    "plt.title('Распределение кредитов в зависимости от образования')"
   ]
  },
  {
   "cell_type": "markdown",
   "metadata": {},
   "source": [
    "У докторов наук (EDUCATION=0) вообще нет просрочек по кредитам. Также небольшой процент невозврата у окончивших лишь начальную школу (EDUCATION=4) и указавших свое образование как \"другое\" (EDUCATION=5). Значительный высокий процент невозврата у окончивших школу (EDUCATION=3), получивших высшее образование бакалавров и магистров (EDUCATION=2, EDUCATION=1) и тех, кто не указал свое образование (EDUCATION=6). Поэтому необходимо считать признак EDUCATION как важным при построение модели."
   ]
  },
  {
   "cell_type": "markdown",
   "metadata": {},
   "source": [
    "Проверим, зависимы ли тип образования и наличие/отсутствие просрочек в оплате кредита. Для этого воспользуемся критерием хи-квадрат. \n",
    "\n",
    "H0: подвыборки образования заемщиков вернувших и не вернувших кредит -- независимы\n",
    "\n",
    "H1: H0 не верна\n",
    "\n",
    "Предварительно составим таблицу сопряженности для образования и возврата / не возврата кредита:"
   ]
  },
  {
   "cell_type": "code",
   "execution_count": 140,
   "metadata": {
    "scrolled": true
   },
   "outputs": [
    {
     "name": "stdout",
     "output_type": "stream",
     "text": [
      "Таблица сопряженности \"образование\" - \"возврат долга\" для наблюдаемых данных\n"
     ]
    },
    {
     "data": {
      "text/html": [
       "<div>\n",
       "<style scoped>\n",
       "    .dataframe tbody tr th:only-of-type {\n",
       "        vertical-align: middle;\n",
       "    }\n",
       "\n",
       "    .dataframe tbody tr th {\n",
       "        vertical-align: top;\n",
       "    }\n",
       "\n",
       "    .dataframe thead th {\n",
       "        text-align: right;\n",
       "    }\n",
       "</style>\n",
       "<table border=\"1\" class=\"dataframe\">\n",
       "  <thead>\n",
       "    <tr style=\"text-align: right;\">\n",
       "      <th></th>\n",
       "      <th>Default=0</th>\n",
       "      <th>Default=1</th>\n",
       "    </tr>\n",
       "  </thead>\n",
       "  <tbody>\n",
       "    <tr>\n",
       "      <th>0</th>\n",
       "      <td>14</td>\n",
       "      <td>0.0</td>\n",
       "    </tr>\n",
       "    <tr>\n",
       "      <th>1</th>\n",
       "      <td>8549</td>\n",
       "      <td>2036.0</td>\n",
       "    </tr>\n",
       "    <tr>\n",
       "      <th>2</th>\n",
       "      <td>10700</td>\n",
       "      <td>3330.0</td>\n",
       "    </tr>\n",
       "    <tr>\n",
       "      <th>3</th>\n",
       "      <td>3680</td>\n",
       "      <td>1237.0</td>\n",
       "    </tr>\n",
       "    <tr>\n",
       "      <th>4</th>\n",
       "      <td>116</td>\n",
       "      <td>7.0</td>\n",
       "    </tr>\n",
       "    <tr>\n",
       "      <th>5</th>\n",
       "      <td>262</td>\n",
       "      <td>18.0</td>\n",
       "    </tr>\n",
       "    <tr>\n",
       "      <th>6</th>\n",
       "      <td>43</td>\n",
       "      <td>8.0</td>\n",
       "    </tr>\n",
       "  </tbody>\n",
       "</table>\n",
       "</div>"
      ],
      "text/plain": [
       "   Default=0  Default=1\n",
       "0         14        0.0\n",
       "1       8549     2036.0\n",
       "2      10700     3330.0\n",
       "3       3680     1237.0\n",
       "4        116        7.0\n",
       "5        262       18.0\n",
       "6         43        8.0"
      ]
     },
     "execution_count": 140,
     "metadata": {},
     "output_type": "execute_result"
    }
   ],
   "source": [
    "eduvsdefault = pd.DataFrame({'Default=0': credit[credit.default == 0].EDUCATION.value_counts(), \n",
    "                             'Default=1': credit[credit.default == 1].EDUCATION.value_counts()})\n",
    "eduvsdefault.iloc[0,1] = 0\n",
    "print('Таблица сопряженности \"образование\" - \"возврат долга\" для наблюдаемых данных')\n",
    "eduvsdefault"
   ]
  },
  {
   "cell_type": "code",
   "execution_count": 159,
   "metadata": {},
   "outputs": [
    {
     "name": "stdout",
     "output_type": "stream",
     "text": [
      "p-value:  1.2332626245415605e-32\n",
      "v_cramer:  0.07376009713252163\n"
     ]
    }
   ],
   "source": [
    "# Определим значение V-коэффициента Крамера и p-value критерия хи-квадрат\n",
    "def v_cramer (chi2, n, shape):\n",
    "    return np.sqrt(chi2/(n * (min(shape[0], shape[1]) - 1 )))\n",
    "n = len(credit)\n",
    "\n",
    "chi2 = stats.chi2_contingency(eduvsdefault)\n",
    "print ('p-value: ', chi2[1])\n",
    "print ('v_cramer: ',v_cramer(chi2[0], n, eduvsdefault.shape))"
   ]
  },
  {
   "cell_type": "markdown",
   "metadata": {},
   "source": [
    "Вывод: гипотеза о независимости образования и наличия/отсутствия просрочек в оплате кредита отвергается (p-value < 0.05). \n",
    "Результат имеет практическую значимость для выдачи кредита, доли возврата значимо отличаются для разных уровней образования. Поэтому признак EDUCATION является важным при рассмотрении заявки на кредит."
   ]
  },
  {
   "cell_type": "markdown",
   "metadata": {},
   "source": [
    "## Семейное положение (MARRIAGE)\n",
    "Проверим, как связан семейный статус с индикатором дефолта. Для этого воспользуемся подходом, аналогичным тому, что применили для признака EDUCATION."
   ]
  },
  {
   "cell_type": "code",
   "execution_count": 161,
   "metadata": {},
   "outputs": [
    {
     "data": {
      "text/plain": [
       "Text(0.5, 1, 'Распределение кредитов в зависимости от семейного положения')"
      ]
     },
     "execution_count": 161,
     "metadata": {},
     "output_type": "execute_result"
    },
    {
     "data": {
      "image/png": "[encoded data removed]",
      "text/plain": [
       "<Figure size 360x360 with 1 Axes>"
      ]
     },
     "metadata": {
      "needs_background": "light"
     },
     "output_type": "display_data"
    }
   ],
   "source": [
    "sns.catplot(x= 'MARRIAGE', y='default', data=credit, kind='bar')\n",
    "plt.xlabel('Семейный статус')\n",
    "plt.ylabel('Доля невозвратных кредитов')\n",
    "plt.title('Распределение кредитов в зависимости от семейного положения')"
   ]
  },
  {
   "cell_type": "markdown",
   "metadata": {},
   "source": [
    "Самая малая доля кредитов с просрочками у тех, кто отказался указывать свой семейный статус (MARRIAGE=0). У остальных категорий примерно одинаковые доли кредитов с просрочками (MARRIAGE=1 - замужем/женат; MARRIAGE=2 - холост; MARRIAGE=3 - нет данных). Поэтому признак MARRIAGE необходимо считать как важный при построении модели."
   ]
  },
  {
   "cell_type": "markdown",
   "metadata": {},
   "source": [
    "Проверим, зависимы ли семейное положение и наличие/отсутствие просрочек в оплате кредита. Для этого воспользуемся критерием хи-квадрат. \n",
    "\n",
    "H0: подвыборки семейного положения заемщиков вернувших и не вернувших кредит -- независимы\n",
    "\n",
    "H1: H0 не верна\n",
    "\n",
    "Предварительно составим таблицу сопряженности для семейного положения и возврата / не возврата кредита:"
   ]
  },
  {
   "cell_type": "code",
   "execution_count": 162,
   "metadata": {
    "scrolled": true
   },
   "outputs": [
    {
     "name": "stdout",
     "output_type": "stream",
     "text": [
      "Таблица сопряженности \"семейное положение\" - \"возврат долга\" для наблюдаемых данных\n"
     ]
    },
    {
     "data": {
      "text/html": [
       "<div>\n",
       "<style scoped>\n",
       "    .dataframe tbody tr th:only-of-type {\n",
       "        vertical-align: middle;\n",
       "    }\n",
       "\n",
       "    .dataframe tbody tr th {\n",
       "        vertical-align: top;\n",
       "    }\n",
       "\n",
       "    .dataframe thead th {\n",
       "        text-align: right;\n",
       "    }\n",
       "</style>\n",
       "<table border=\"1\" class=\"dataframe\">\n",
       "  <thead>\n",
       "    <tr style=\"text-align: right;\">\n",
       "      <th></th>\n",
       "      <th>Default=0</th>\n",
       "      <th>Default=1</th>\n",
       "    </tr>\n",
       "  </thead>\n",
       "  <tbody>\n",
       "    <tr>\n",
       "      <th>2</th>\n",
       "      <td>12623</td>\n",
       "      <td>3341</td>\n",
       "    </tr>\n",
       "    <tr>\n",
       "      <th>1</th>\n",
       "      <td>10453</td>\n",
       "      <td>3206</td>\n",
       "    </tr>\n",
       "    <tr>\n",
       "      <th>3</th>\n",
       "      <td>239</td>\n",
       "      <td>84</td>\n",
       "    </tr>\n",
       "    <tr>\n",
       "      <th>0</th>\n",
       "      <td>49</td>\n",
       "      <td>5</td>\n",
       "    </tr>\n",
       "  </tbody>\n",
       "</table>\n",
       "</div>"
      ],
      "text/plain": [
       "   Default=0  Default=1\n",
       "2      12623       3341\n",
       "1      10453       3206\n",
       "3        239         84\n",
       "0         49          5"
      ]
     },
     "execution_count": 162,
     "metadata": {},
     "output_type": "execute_result"
    }
   ],
   "source": [
    "marriagevsdefault = pd.DataFrame({'Default=0': credit[credit.default == 0].MARRIAGE.value_counts(), \n",
    "                             'Default=1': credit[credit.default == 1].MARRIAGE.value_counts()})\n",
    "\n",
    "print('Таблица сопряженности \"семейное положение\" - \"возврат долга\" для наблюдаемых данных')\n",
    "marriagevsdefault"
   ]
  },
  {
   "cell_type": "code",
   "execution_count": 164,
   "metadata": {},
   "outputs": [
    {
     "name": "stdout",
     "output_type": "stream",
     "text": [
      "p-value:  8.825862457577375e-08\n",
      "v_cramer:  0.034478203662766466\n"
     ]
    }
   ],
   "source": [
    "# Определим значение V-коэффициента Крамера и p-value критерия хи-квадрат\n",
    "def v_cramer (chi2, n, shape):\n",
    "    return np.sqrt(chi2/(n * (min(shape[0], shape[1]) - 1 )))\n",
    "\n",
    "chi2 = stats.chi2_contingency(marriagevsdefault)\n",
    "print ('p-value: ', chi2[1])\n",
    "print ('v_cramer: ',v_cramer(chi2[0], len(credit), marriagevsdefault.shape))"
   ]
  },
  {
   "cell_type": "markdown",
   "metadata": {},
   "source": [
    "Вывод: гипотеза о независимости семейного положения и наличия/отсутствия просрочек в оплате кредита отвергается (p-value < 0.05). Поэтому признак MARRIAGE является важным при рассмотрении заявки на кредит."
   ]
  },
  {
   "cell_type": "markdown",
   "metadata": {},
   "source": [
    "## Возраст (AGE)\n",
    "Относительно двух групп людей вернувших и не вернувших кредит проверим следующие гипотезы: a) о равенстве медианных значений возрастов людей b) о равенстве распределений с помощью одного из подходящих непараметрических критериев проверки равенства средних"
   ]
  },
  {
   "cell_type": "code",
   "execution_count": 165,
   "metadata": {},
   "outputs": [
    {
     "data": {
      "image/png": "[encoded data removed]",
      "text/plain": [
       "<Figure size 1080x504 with 2 Axes>"
      ]
     },
     "metadata": {
      "needs_background": "light"
     },
     "output_type": "display_data"
    }
   ],
   "source": [
    "plt.figure(1,figsize=(15,7))\n",
    "plt.subplot(121)\n",
    "plt.hist(credit['AGE'])\n",
    "plt.title('Распределение кредитов в зависимости от возраста')\n",
    "plt.xlabel('Возраст')\n",
    "plt.ylabel('Количество кредитов, шт')\n",
    "plt.grid()\n",
    "\n",
    "plt.subplot(122)\n",
    "plt.hist(credit.AGE.loc[credit['default'] == 0], label = 'Default 0')\n",
    "plt.hist(credit.AGE.loc[credit['default'] == 1], label = 'Default 1')\n",
    "plt.title('Распределение кредитов в зависимости от возраста')\n",
    "plt.xlabel('Возраст')\n",
    "plt.ylabel('Количество кредитов, шт')\n",
    "plt.legend()\n",
    "plt.grid()\n",
    "plt.show()"
   ]
  },
  {
   "cell_type": "markdown",
   "metadata": {},
   "source": [
    "Проверим гипотезу о равенстве медианных значений кредитного лимита с помощью подходящей интервальной оценки.\n",
    "H0: медианные значения равны\n",
    "H1: медианные значения отличаются"
   ]
  },
  {
   "cell_type": "code",
   "execution_count": 166,
   "metadata": {},
   "outputs": [],
   "source": [
    "age_0 = credit.AGE.loc[credit['default'] == 0]\n",
    "age_1 = credit.AGE.loc[credit['default'] == 1]"
   ]
  },
  {
   "cell_type": "code",
   "execution_count": 167,
   "metadata": {},
   "outputs": [
    {
     "name": "stdout",
     "output_type": "stream",
     "text": [
      "95% доверительный интервал для AGE|default=0: [34. 34.]\n",
      "95% доверительный интервал для AGE|default=1: [34. 35.]\n",
      "95% доверительный интервал для разности медиан: [-1.  0.]\n"
     ]
    }
   ],
   "source": [
    "np.random.seed(0)\n",
    "\n",
    "age_0_median_scores = list(map(np.median, get_bootstrap_samples(age_0.values, 1000)))\n",
    "age_1_median_scores = list(map(np.median, get_bootstrap_samples(age_1.values, 1000)))\n",
    "\n",
    "delta_scores_age = list(map(lambda x: x[0] - x[1], zip(age_0_median_scores, age_1_median_scores)))\n",
    "\n",
    "print(\"95% доверительный интервал для AGE|default=0:\",  stat_intervals(age_0_median_scores, 0.05))\n",
    "print(\"95% доверительный интервал для AGE|default=1:\",  stat_intervals(age_1_median_scores, 0.05))\n",
    "print(\"95% доверительный интервал для разности медиан:\",  stat_intervals(delta_scores_age, 0.05))\n"
   ]
  },
  {
   "cell_type": "markdown",
   "metadata": {},
   "source": [
    "Вывод: 0 входит в доверительный интервал, поэтому однозначно мы не можем сказать, что есть разница в медианых значений возраста в кредитах у которых нет просрочек и кредитах, где они есть."
   ]
  },
  {
   "cell_type": "markdown",
   "metadata": {},
   "source": [
    "### Проверим гипотезу о равенстве распределений с помощью одного из подходящих непараметрических критериев проверки равенства средних.\n",
    "\n",
    "Для проверки гипотезы подойдёт перестановочный критерий для независимых выборок.\n",
    "\n",
    "H0: распределения выборок полностью равны\n",
    "\n",
    "H1: распределения выборок отличаются на величину сдвига"
   ]
  },
  {
   "cell_type": "code",
   "execution_count": 170,
   "metadata": {},
   "outputs": [
    {
     "name": "stdout",
     "output_type": "stream",
     "text": [
      "p-value: 0.017100\n"
     ]
    }
   ],
   "source": [
    "print(\"p-value: %f\" % permutation_test(age_0, age_1, max_permutations = 10000))"
   ]
  },
  {
   "cell_type": "markdown",
   "metadata": {},
   "source": [
    "Вывод: гипотеза о равенстве распредений отвергается.\n",
    "\n",
    "Общий вывод по пункту: Ввиду того, что доверительный интервал содержит ноль и в тоже время p-value < 0,05 мы не можем однозначно определить зависимость от возраста. Для более точных оценок необходимо больше данных."
   ]
  }
 ],
 "metadata": {
  "kernelspec": {
   "display_name": "Python 3",
   "language": "python",
   "name": "python3"
  },
  "language_info": {
   "codemirror_mode": {
    "name": "ipython",
    "version": 3
   },
   "file_extension": ".py",
   "mimetype": "text/x-python",
   "name": "python",
   "nbconvert_exporter": "python",
   "pygments_lexer": "ipython3",
   "version": "3.7.6"
  }
 },
 "nbformat": 4,
 "nbformat_minor": 4
}
