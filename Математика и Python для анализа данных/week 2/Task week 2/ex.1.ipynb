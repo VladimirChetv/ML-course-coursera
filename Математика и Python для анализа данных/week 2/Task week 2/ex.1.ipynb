{
 "cells": [
  {
   "cell_type": "code",
   "execution_count": 71,
   "metadata": {},
   "outputs": [],
   "source": [
    "import numpy as np\n",
    "import re"
   ]
  },
  {
   "cell_type": "code",
   "execution_count": 72,
   "metadata": {},
   "outputs": [],
   "source": [
    "with open('sentences.txt','r') as file:\n",
    "    sentences = []\n",
    "    words = []\n",
    "    for line in file:\n",
    "        line_list = re.split('[^a-z]', line.strip('\\\\n\\\\r.').lower())\n",
    "        line_list = list(filter(None, line_list))            \n",
    "        sentences.append(line_list)\n",
    "        words += line_list\n",
    "word = set(words)\n"
   ]
  },
  {
   "cell_type": "code",
   "execution_count": 79,
   "metadata": {},
   "outputs": [],
   "source": [
    "word_dic={}\n",
    "values=0\n",
    "for key in word:\n",
    "    if key not in word_dic:\n",
    "        word_dic[key] = values\n",
    "        values += 1\n"
   ]
  },
  {
   "cell_type": "code",
   "execution_count": 117,
   "metadata": {},
   "outputs": [],
   "source": [
    "n = len(sentences)\n",
    "d = len(word)\n",
    "matrix = np.zeros(shape = (n,d))\n",
    "for i in range(n):\n",
    "    for j in range(d):\n",
    "        matrix[i][j] = sentences[i].count([*word_dic][j])"
   ]
  },
  {
   "cell_type": "code",
   "execution_count": 118,
   "metadata": {},
   "outputs": [],
   "source": [
    "from scipy.spatial.distance import cosine"
   ]
  },
  {
   "cell_type": "code",
   "execution_count": 126,
   "metadata": {},
   "outputs": [
    {
     "name": "stdout",
     "output_type": "stream",
     "text": [
      "[0.         0.95275444 0.86447381 0.89517152 0.77708871 0.94023857\n",
      " 0.73273876 0.92587507 0.88427249 0.90550888 0.83281654 0.88047714\n",
      " 0.83964325 0.87035926 0.87401184 0.94427218 0.84063619 0.9566445\n",
      " 0.94427218 0.88854436 0.84275727 0.82503645]\n"
     ]
    }
   ],
   "source": [
    "cos_0 = []\n",
    "for i in range(n):\n",
    "    cos_0.append(cosine(matrix[0], matrix[i]))\n",
    "cos_0 = np.array(cos_0)\n",
    "\n",
    "print(cos_0)"
   ]
  },
  {
   "cell_type": "code",
   "execution_count": 140,
   "metadata": {},
   "outputs": [
    {
     "name": "stdout",
     "output_type": "stream",
     "text": [
      "6 4\n"
     ]
    }
   ],
   "source": [
    "dist = [] \n",
    "u = matrix[0,] \n",
    "for i in range(1, n):\n",
    "    v = matrix[i,]\n",
    "    dist.append({\"index\": i, \"distance\": cosine(u, v)})    \n",
    "dist.sort(key=lambda x: x[\"distance\"])\n",
    "with open('final.txt','w') as out:\n",
    "    out.write(' '.join([str(dist[i][\"index\"]) for i in range(2)]))\n",
    "print(dist[0][\"index\"], dist[1][\"index\"])"
   ]
  },
  {
   "cell_type": "code",
   "execution_count": null,
   "metadata": {},
   "outputs": [],
   "source": []
  },
  {
   "cell_type": "code",
   "execution_count": null,
   "metadata": {},
   "outputs": [],
   "source": []
  }
 ],
 "metadata": {
  "kernelspec": {
   "display_name": "Python 3",
   "language": "python",
   "name": "python3"
  },
  "language_info": {
   "codemirror_mode": {
    "name": "ipython",
    "version": 3
   },
   "file_extension": ".py",
   "mimetype": "text/x-python",
   "name": "python",
   "nbconvert_exporter": "python",
   "pygments_lexer": "ipython3",
   "version": "3.7.6"
  }
 },
 "nbformat": 4,
 "nbformat_minor": 4
}
